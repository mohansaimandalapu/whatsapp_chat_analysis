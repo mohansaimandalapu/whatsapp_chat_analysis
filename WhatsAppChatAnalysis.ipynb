{
 "cells": [
  {
   "cell_type": "markdown",
   "metadata": {},
   "source": [
    "# Preprocess data"
   ]
  },
  {
   "cell_type": "code",
   "execution_count": 11,
   "metadata": {
    "tags": []
   },
   "outputs": [],
   "source": [
    "! cp /home/panther/Downloads/praju.txt ./\n"
   ]
  },
  {
   "cell_type": "code",
   "execution_count": 23,
   "metadata": {
    "collapsed": true,
    "jupyter": {
     "outputs_hidden": true
    }
   },
   "outputs": [
    {
     "output_type": "execute_result",
     "data": {
      "text/plain": "M - Yashu Urs: <Media omitted>\\n',\n '3/27/20, 6:31 PM - +1 (315) 937-6384: 😂\\n',\n '3/27/20, 7:10 PM - +91 99020 73366: 🤣\\n',\n '3/27/20, 7:26 PM - Lakshmi Sis: https://www.quarantime.in/\\n',\n 'Enter your pin and know how safe are you? Check out this app which shows the list of quarantined people around you. Keep Calm and Stay Safe! \\n',\n 'Currently only for Karnataka.\\n',\n '3/27/20, 10:10 PM - +91 98861 64835: <Media omitted>\\n',\n '3/27/20, 10:49 PM - Sinchana: Gd night\\n',\n '3/28/20, 8:18 AM - +91 98861 64835: <Media omitted>\\n',\n '3/28/20, 10:01 AM - Sinchana: Gd morning\\n',\n '3/28/20, 11:08 AM - Ajay Cousin: *ಉಚಿತವಾಗಿ ಪಡೆಯಿರಿ 499 GB Data ಮತ್ತು Unlimited Free calls 5 ತಿಂಗಳು\\n',\n ' \\n',\n ' *Click To Get Now* ☞ free2recharge.pw/free\\n',\n '3/28/20, 11:19 AM - Lakshmi Sis: https://www.indiatoday.in/technology/news/story/is-reliance-jio-offering-free-recharge-of-rs-498-here-s-the-truth-behind-whatsapp-message-1660290-2020-03-27\\n',\n '3/28/20, 2:54 PM - Yashu Urs: <Media omitted>\\n',\n '3/28/20, 2:59 PM - +91 86603 28471: 🤣\\n',\n '3/28/20, 3:01 PM - +91 99020 73366: 🤣🤣\\n',\n '3/28/20, 10:40 PM - +91 98861 64835: <Media omitted>\\n',\n '3/28/20, 11:18 PM - Sinchana: Gd night\\n',\n '3/29/20, 7:52 AM - +91 98861 64835: <Media omitted>\\n',\n '3/29/20, 11:45 AM - Sinchana: Gd morning\\n',\n '3/29/20, 12:32 PM - +91 99020 73366: https://youtu.be/rig1BveQJis\\n',\n '3/29/20, 7:31 PM - +91 98454 71826: <Media omitted>\\n',\n \"3/29/20, 7:31 PM - +91 98454 71826: Nityananda's latest high-profile devotee.....😃😃\\n\",\n '3/29/20, 9:51 PM - +91 98861 64835: <Media omitted>\\n',\n '3/29/20, 9:59 PM - +91 98454 71826: 🤣🤣\\n',\n '3/29/20, 10:28 PM - +91 98861 64835: <Media omitted>\\n',\n '3/29/20, 10:38 PM - Yashu Urs: 😆😆\\n',\n '3/29/20, 10:41 PM - Sinchana: Gd night\\n',\n '3/29/20, 10:52 PM - +91 99020 73366: Good night 😴\\n',\n \"3/30/20, 10:08 AM - Ajay Cousin deleted this group's icon\\n\",\n \"3/30/20, 10:09 AM - Ajay Cousin changed this group's icon\\n\",\n '3/30/20, 10:08 AM - Ajay Cousin changed the subject from \"Hapy birthday krishnabava\" to \"Hbd To Arjun🍰🍰🍰🎂🎂\"\\n',\n '3/30/20, 8:11 AM - +91 98861 64835: <Media omitted>\\n',\n '3/30/20, 8:18 AM - Shekar Dhodapa: Good morning all\\n',\n '3/30/20, 8:18 AM - +91 86603 28471: Good morning\\n',\n '3/30/20, 10:05 AM - +91 98861 64835: Many more happy returns of the day God bless you arjun\\n',\n '3/30/20, 10:06 AM - Roopa Akka: Happiest birthday Arjun 💐🎊🎁\\n',\n '3/30/20, 10:07 AM - +91 86603 28471: Happy birthday arjun💐🥳\\n',\n '3/30/20, 10:07 AM - Ajay Cousin: Happy birthday arjun God bless you\\n',\n '3/30/20, 10:10 AM - Sinchana: Happiest birthday anna🎊🥳🥳\\n',\n '3/30/20, 10:10 AM - Pavan bro❤️: Many more happy returns of the day brother 🍰🥧🧁✨\\n',\n '3/30/20, 10:22 AM - Usha Athe: Many  more  happy  returns  of\\n',\n ' the day  God  bless you\\n',\n '990165979\\n',\n '3/30/20, 10:29 AM - +91 99020 73366: Thank you everyone\\n',\n '3/30/20, 10:42 AM - +1 (315) 937-6384: Happy birthday Arjuna 🎂🥳🥳\\n',\n '3/30/20, 10:52 AM - Vijay @cousin: Happy birthday 🎉 arjun bhai\\n',\n '3/30/20, 11:23 AM - +91 99020 73366: Thank you 😊🥰\\n',\n '3/30/20, 11:27 AM - Yashu Urs: Happy birthday Arjun 🎂🥳🎉\\n',\n '3/30/20, 12:06 PM - +91 99020 73366: Thank you 😊\\n',\n '3/30/20, 12:46 PM - +91 98861 64835: <Media omitted>\\n',\n '3/30/20, 12:49 PM - Yashu Urs: <Media omitted>\\n',\n '3/30/20, 12:57 PM - Amma Jio: Many more happy birthday arjun god bless you\\n',\n '3/30/20, 12:59 PM - +91 99020 73366: Thank you 😊\\n',\n '3/30/20, 3:33 PM - Lakshmi Sis: <Media omitted>\\n',\n '3/30/20, 6:49 PM - +91 99020 73366: Tomorrow as per kanchi mutt tomorrow they are asking everyone to light lamp between 10 and 11 am to create lamp wheat flour, turmeric powder with gingery oil Create small lamps as the number of people in everyone house if you have 4 people the 4 lamps then use gingelly oil or ghee and use a wick to light the lamp\\n',\n '3/30/20, 7:17 PM - Yashu Urs: <Media omitted>\\n',\n '3/30/20, 10:09 PM - +91 98861 64835: <Media omitted>\\n',\n '3/30/20, 10:09 PM - +91 99020 73366: Good night\\n',\n '3/30/20, 10:15 PM - Sinchana: Gd night\\n',\n '3/30/20, 10:23 PM - +91 99020 73366: <Media omitted>\\n',\n '3/31/20, 8:12 AM - +91 98861 64835: <Media omitted>\\n',\n '3/31/20, 2:49 PM - Yashu Urs: <Media omitted>\\n',\n '3/31/20, 5:10 PM - +91 98861 64835: <Media omitted>\\n',\n '3/31/20, 5:39 PM - Yashu Urs: <Media omitted>\\n',\n '3/31/20, 8:56 PM - Appa@: <Media omitted>\\n',\n '3/31/20, 9:25 PM - +91 98861 64835: <Media omitted>\\n',\n '3/31/20, 9:34 PM - Sinchana: Gd night\\n',\n '3/31/20, 9:39 PM - Appa@: Gd  night  all\\n',\n '3/31/20, 9:39 PM - +91 99020 73366: Good night\\n',\n '4/1/20, 8:34 AM - +91 98861 64835: <Media omitted>\\n',\n '4/1/20, 10:06 AM - Sinchana: Gd morning\\n',\n '4/1/20, 10:07 AM - Sinchana: <Media omitted>\\n',\n '4/1/20, 12:36 PM - Yashu Urs: <Media omitted>\\n',\n '4/1/20, 1:08 PM - +91 99020 73366: This message was deleted\\n',\n '4/1/20, 1:12 PM - +91 99020 73366: This message was deleted\\n',\n '4/1/20, 1:25 PM - +91 99020 73366: <Media omitted>\\n',\n '4/1/20, 1:27 PM - +91 99020 73366: <Media omitted>\\n',\n '4/1/20, 1:29 PM - +91 99020 73366: <Media omitted>\\n',\n '4/1/20, 8:44 PM - Appa@: <Media omitted>\\n',\n '4/1/20, 10:44 PM - +91 98861 64835: <Media omitted>\\n',\n '4/2/20, 8:13 AM - +91 98861 64835: <Media omitted>\\n',\n '4/2/20, 9:56 AM - Sinchana: Gd morning\\n',\n '4/2/20, 12:18 PM - Yashu Urs: <Media omitted>\\n',\n '4/2/20, 6:22 PM - +91 99020 73366: <Media omitted>\\n',\n '4/2/20, 8:20 PM - +91 99020 73366: <Media omitted>\\n',\n '4/2/20, 8:20 PM - +91 99020 73366: For all those, who think tik-tok is just some innocent fun app...open your eyes!\\n',\n '4/2/20, 9:24 PM - +91 98861 64835: <Media omitted>\\n',\n '4/2/20, 10:36 PM - Sinchana: Gd night\\n',\n '4/2/20, 10:57 PM - Yashu Urs: <Media omitted>\\n',\n '4/2/20, 10:57 PM - Yashu Urs: <Media omitted>\\n',\n '4/3/20, 7:52 AM - +91 98861 64835: <Media omitted>\\n',\n '4/3/20, 9:51 AM - Sinchana: Gd morning\\n',\n '4/3/20, 1:02 PM - Yashu Urs: <Media omitted>\\n',\n '4/3/20, 3:13 PM - Lakshmi Sis: 💦 After the 93 year old man in Italy got better in the hospital, he was told to pay for the ventilator for one day, and the old man started to cry. The doctor advised him not to cry over the bill.\\n',\n '\\n',\n 'What the old man said made all the doctors cry.\\n',\n '\\n',\n 'The Old man said, \\n',\n '\"I don\\'t cry because of the money I have to pay. I can pay all the money.\" *I cry because I have been breathing God\\'s air for 93 years, but I never had to pay anything for it. But for using a ventilator in your hospital for just one day i have to pay  €5,000. I realise now how much I owe God ? I never thanked God for it before.\"*\\n',\n '\\n',\n \"The truth of the above news can't be verified, but the old man's words are worth our reflection.\\n\",\n '\\n',\n 'When we breathe air freely without pain or illness, none of us take the air seriously bcz we take it for granted. Only when we enter the hospital we know the value of air, that even breathing oxygen with a ventilator costs money!\\n',\n '\\n',\n '🙏🏽 *Praise God we can breathe freely..!* 💐👏🏽🙏🙏🙏😘😘😘🌸\\n',\n '4/3/20, 8:07 PM - +1 (315) 937-6384: <Media omitted>\\n',\n '4/3/20, 10:18 PM - Yashu Urs: <Media omitted>\\n',\n '4/3/20, 10:26 PM - +91 98861 64835: <Media omitted>\\n',\n '4/3/20, 10:27 PM - Sinchana: Gd night\\n',\n '4/3/20, 10:28 PM - +91 99020 73366: Good night\\n',\n '4/4/20, 9:36 AM - +91 98861 64835: <Media omitted>\\n',\n '4/4/20, 9:45 AM - Shekar Dhodapa: <Media omitted>\\n',\n '4/4/20, 12:51 PM - Yashu Urs: <Media omitted>\\n',\n '4/4/20, 9:40 PM - +91 98861 64835: <Media omitted>\\n',\n '4/4/20, 9:40 PM - Sinchana: Gd night\\n',\n '4/4/20, 9:41 PM - Appa@: All good night\\n',\n '4/4/20, 9:46 PM - +91 99020 73366: Good night\\n',\n '4/4/20, 10:02 PM - Yashu Urs: <Media omitted>\\n',\n '4/5/20, 7:58 AM - +91 98861 64835: <Media omitted>\\n',\n '4/5/20, 5:34 PM - Yashu Urs: <Media omitted>\\n',\n '4/5/20, 6:37 PM - +91 99020 73366: <Media omitted>\\n',\n '4/5/20, 9:28 PM - +91 98861 64835: <Media omitted>\\n',\n '4/5/20, 9:28 PM - +91 98861 64835: Good night\\n',\n '4/5/20, 9:36 PM - Sinchana: Gd night\\n',\n '4/5/20, 9:53 PM - Sinchana: <Media omitted>\\n',\n '4/6/20, 7:33 AM - +91 98861 64835: <Media omitted>\\n',\n '4/6/20, 8:50 AM - Sinchana: Gd morning\\n',\n '4/6/20, 12:40 PM - Yashu Urs: <Media omitted>\\n',\n '4/6/20, 6:45 PM - Yashu Urs: <Media omitted>\\n',\n '4/6/20, 11:02 PM - +91 98861 64835: <Media omitted>\\n',\n '4/7/20, 8:10 AM - +91 98861 64835: <Media omitted>\\n',\n '4/7/20, 8:58 AM - Sinchana: Gd morning\\n',\n '4/7/20, 8:59 AM - +91 98454 71826: <Media omitted>\\n',\n '4/7/20, 2:15 PM - Yashu Urs: <Media omitted>\\n',\n '4/7/20, 7:05 PM - +91 99020 73366: <Media omitted>\\n',\n '4/7/20, 7:05 PM - +91 99020 73366: <Media omitted>\\n',\n '4/7/20, 7:05 PM - +91 99020 73366: <Media omitted>\\n',\n '4/7/20, 7:18 PM - +91 99020 73366: <Media omitted>\\n',\n '4/7/20, 9:24 PM - +91 98861 64835: <Media omitted>\\n',\n '4/7/20, 10:44 PM - Yashu Urs: <Media omitted>\\n',\n '4/7/20, 10:47 PM - Sinchana: 😅😅\\n',\n '4/7/20, 10:47 PM - Sinchana: Gd night\\n',\n '4/8/20, 8:43 AM - +91 98861 64835: <Media omitted>\\n',\n '4/8/20, 9:07 AM - +91 98454 71826: <Media omitted>\\n',\n '4/8/20, 12:39 PM - Yashu Urs: <Media omitted>\\n',\n '4/8/20, 12:49 PM - Sinchana: 🤭🤭🤭🤭\\n',\n '4/8/20, 5:24 PM - Lakshmi Sis: <Media omitted>\\n',\n '4/8/20, 5:24 PM - Lakshmi Sis: Short film done by leading actors all over India without stepping out of their homes👆\\n',\n '4/8/20, 9:45 PM - Yashu Urs: <Media omitted>\\n',\n '4/8/20, 10:06 PM - +91 99020 73366: <Media omitted>\\n',\n '4/8/20, 10:12 PM - +91 98861 64835: <Media omitted>\\n',\n '4/8/20, 10:12 PM - +91 99020 73366: <Media omitted>\\n',\n '4/8/20, 10:14 PM - +91 99020 73366: 🤣🤣🤣🤣\\n',\n '4/9/20, 1:01 AM - Sinchana: Gd night\\n',\n '4/9/20, 8:15 AM - +91 98861 64835: <Media omitted>\\n',\n '4/9/20, 8:55 AM - +91 98454 71826: <Media omitted>\\n',\n '4/9/20, 10:26 AM - +91 99020 73366: <Media omitted>\\n',\n '4/9/20, 3:55 PM - Lakshmi Sis: <Media omitted>\\n',\n '4/9/20, 5:39 PM - Yashu Urs: <Media omitted>\\n',\n '4/9/20, 5:44 PM - +91 99020 73366: <Media omitted>\\n',\n '4/9/20, 8:19 PM - +91 99020 73366: <Media omitted>\\n',\n '4/9/20, 9:25 PM - +91 98861 64835: <Media omitted>\\n',\n '4/9/20, 10:06 PM - Sinchana: Gd night\\n',\n '4/9/20, 10:28 PM - +91 99020 73366: Good night\\n',\n '4/9/20, 11:01 PM - Yashu Urs: <Media omitted>\\n',\n '4/10/20, 8:01 AM - +91 98861 64835: <Media omitted>\\n',\n '4/10/20, 8:37 AM - +91 98454 71826: <Media omitted>\\n',\n '4/10/20, 10:56 AM - Sinchana: Gd morning\\n',\n '4/10/20, 3:13 PM - +91 99020 73366: https://youtu.be/vIZLjmM7ACo\\n',\n '4/10/20, 10:05 PM - +91 98861 64835: <Media omitted>\\n',\n '4/10/20, 10:21 PM - Yashu Urs: <Media omitted>\\n',\n '4/10/20, 11:12 PM - Sinchana: Gd night\\n',\n '4/10/20, 11:12 PM - Sinchana: 😂😂😂\\n',\n '4/11/20, 8:33 AM - +91 98454 71826: <Media omitted>\\n',\n '4/11/20, 8:56 AM - +91 98861 64835: <Media omitted>\\n',\n '4/11/20, 11:24 AM - Sinchana: Gd morning\\n',\n '4/11/20, 12:45 PM - Yashu Urs: <Media omitted>\\n',\n '4/11/20, 3:13 PM - +91 99020 73366: <Media omitted>\\n',\n '4/11/20, 3:21 PM - +91 99020 73366: https://youtu.be/L_ki-F7lHUg\\n',\n '4/11/20, 6:16 PM - +91 99020 73366: https://youtu.be/6yYB5hIWnu0\\n',\n '4/11/20, 6:16 PM - +91 99020 73366: https://youtu.be/m4HEuLn6Bdg\\n',\n '4/11/20, 9:11 PM - +91 98861 64835: <Media omitted>\\n',\n '4/11/20, 9:40 PM - Sinchana: Gd night\\n',\n '4/12/20, 8:41 AM - +91 98861 64835: <Media omitted>\\n',\n '4/12/20, 1:00 PM - Yashu Urs: <Media omitted>\\n',\n '4/12/20, 1:07 PM - +91 86603 28471: <Media omitted>\\n',\n '4/12/20, 1:08 PM - +91 86603 28471: <Media omitted>\\n',\n '4/12/20, 1:08 PM - Pavan bro❤️: Wow 💓😍❣️❣️❣️\\n',\n '4/12/20, 1:08 PM - Ajay Cousin: Super 😍😍😍\\n',\n '4/12/20, 1:09 PM - Ajay Cousin: Jai jai roppakageee jai\\n',\n '4/12/20, 1:09 PM - +91 86603 28471: <Media omitted>\\n',\n '4/12/20, 1:09 PM - +91 86603 28471: <Media omitted>\\n',\n '4/12/20, 1:09 PM - +91 86603 28471: <Media omitted>\\n',\n '4/12/20, 1:10 PM - +91 86603 28471: <Media omitted>\\n',\n '4/12/20, 1:10 PM - +91 86603 28471: <Media omitted>\\n',\n '4/12/20, 1:11 PM - +91 86603 28471: <Media omitted>\\n',\n '4/12/20, 1:11 PM - +91 86603 28471: <Media omitted>\\n',\n '4/12/20, 1:12 PM - +91 86603 28471: <Media omitted>\\n',\n '4/12/20, 1:12 PM - +91 86603 28471: <Media omitted>\\n',\n '4/12/20, 1:12 PM - +91 86603 28471: <Media omitted>\\n',\n '4/12/20, 1:12 PM - +91 86603 28471: <Media omitted>\\n',\n '4/12/20, 1:12 PM - +91 86603 28471: <Media omitted>\\n',\n '4/12/20, 1:13 PM - Ajay Cousin: Jai jai ramyakageee jai\\n',\n '4/12/20, 1:14 PM - Yashu Urs: 👌👌👌👌\\n',\n '4/12/20, 1:29 PM - +91 86603 28471: <Media omitted>\\n',\n '4/12/20, 1:35 PM - Sinchana: Ayee 👌👌👌👌\\n',\n '4/12/20, 1:42 PM - +91 86603 28471: <Media omitted>\\n',\n '4/12/20, 1:58 PM - Shekar Dhodapa: Savi nenapugalu madam Ramya. Tq.\\n',\n '4/12/20, 2:22 PM - Yashu Urs: Thanks for dis pic\\n',\n '4/12/20, 5:31 PM - +91 86603 28471: <Media omitted>\\n',\n '4/12/20, 5:44 PM - Ajay Cousin: Super akka😍😍😍😍\\n',\n '4/12/20, 6:01 PM - Sinchana: 😍😍😍\\n',\n '4/12/20, 6:01 PM - +91 98454 71826: Wow.. nice pic 👌👌\\n',\n '4/12/20, 7:17 PM - +91 99020 73366: https://youtu.be/FTmqHh28raI\\n',\n '4/12/20, 9:14 PM - Sinchana: <Media omitted>\\n',\n '4/12/20, 9:27 PM - Sinchana: <Media omitted>\\n',\n '4/12/20, 9:29 PM - Sinchana: <Media omitted>\\n',\n '4/12/20, 9:31 PM - +91 99020 73366: <Media omitted>\\n',\n '4/12/20, 9:32 PM - +91 99020 73366: <Media omitted>\\n',\n '4/12/20, 9:33 PM - Sinchana: <Media omitted>\\n',\n '4/12/20, 9:33 PM - Sinchana: <Media omitted>\\n',\n '4/12/20, 9:33 PM - Sinchana: <Media omitted>\\n',\n '4/12/20, 9:35 PM - Sinchana: <Media omitted>\\n',\n '4/12/20, 9:36 PM - Sinchana: <Media omitted>\\n',\n '4/12/20, 9:36 PM - Ajay Cousin: Colgate smile akka\\n',\n '4/12/20, 9:37 PM - Sinchana: Huu\\n',\n '4/12/20, 9:38 PM - Yashu Urs: 😂😂👌👌\\n',\n '4/12/20, 9:38 PM - Sinchana: 😆😆😅😅😅\\n',\n '4/12/20, 9:38 PM - +91 99020 73366: Great dance 👌\\n',\n '4/12/20, 9:40 PM - +91 98861 64835: <Media omitted>\\n',\n '4/12/20, 9:55 PM - Sinchana: Gd night\\n',\n '4/12/20, 9:55 PM - +91 99020 73366: Good night\\n',\n '4/13/20, 7:50 AM - +91 98861 64835: <Media omitted>\\n',\n '4/13/20, 8:15 AM - +91 98454 71826: <Media omitted>\\n',\n '4/13/20, 10:20 AM - +1 (315) 937-6384: <Media omitted>\\n',\n '4/13/20, 4:13 PM - +91 99020 73366: <Media omitted>\\n',\n '4/13/20, 7:34 PM - Yashu Urs: https://vm.tiktok.com/nvUyE9/\\n',\n '4/13/20, 7:48 PM - +1 (315) 937-6384: 😂\\n',\n '4/13/20, 7:57 PM - Sinchana: <Media omitted>\\n',\n '4/13/20, 7:58 PM - Sinchana: <Media omitted>\\n',\n '4/13/20, 8:03 PM - Roopa Akka: Thank you sinchu\\n',\n '4/13/20, 8:05 PM - +91 86603 28471: 👌\\n',\n '4/13/20, 9:24 PM - Shekar Dhodapa: <Media omitted>\\n',\n '4/13/20, 9:42 PM - +91 86603 28471: 😆😆🤦🏿\\u200d♀🤦🏿\\u200d♀\\n',\n '4/13/20, 9:44 PM - Sinchana: Welcome akka😍\\n',\n '4/13/20, 9:44 PM - Sinchana: 😍\\n',\n '4/13/20, 10:10 PM - +91 98861 64835: <Media omitted>\\n',\n '4/13/20, 10:11 PM - Sinchana: Gd night\\n',\n '4/13/20, 10:44 PM - +91 86603 28471: <Media omitted>\\n',\n '4/14/20, 8:00 AM - +91 98861 64835: <Media omitted>\\n',\n '4/14/20, 8:11 AM - +91 98454 71826: <Media omitted>\\n',\n '4/14/20, 9:50 AM - Sinchana: Gd morning\\n',\n '4/14/20, 5:10 PM - Yashu Urs: https://vm.tiktok.com/WJEp9h/\\n',\n '4/14/20, 9:45 PM - +91 98861 64835: <Media omitted>\\n',\n '4/14/20, 9:50 PM - +91 98454 71826: Good night 😴\\n',\n '4/14/20, 9:59 PM - Sinchana: Gd night\\n',\n '4/14/20, 9:59 PM - +91 99020 73366: Good night 😴\\n',\n '4/14/20, 10:52 PM - Lakshmi Sis: <Media omitted>\\n',\n '4/14/20, 10:53 PM - Sinchana: 😍❤\\n',\n '4/14/20, 11:06 PM - Lakshmi Sis: 🤗❤\\n',\n '4/15/20, 6:32 AM - Vijay @cousin: Gombe\\n',\n '4/15/20, 7:46 AM - +91 99020 73366: <Media omitted>\\n',\n '4/15/20, 7:48 AM - +91 99020 73366: <Media omitted>\\n',\n '4/15/20, 7:53 AM - +91 99020 73366: <Media omitted>\\n',\n '4/15/20, 8:02 AM - +91 99020 73366: <Media omitted>\\n',\n '4/15/20, 8:15 AM - +91 98861 64835: <Media omitted>\\n',\n '4/15/20, 8:19 AM - Lakshmi Sis: 🤗\\n',\n '4/15/20, 9:11 AM - +91 98454 71826: <Media omitted>\\n',\n '4/15/20, 10:11 AM - Sinchana: Gd morning\\n',\n '4/15/20, 10:34 AM - +91 86603 28471: Good morning\\n',\n '4/15/20, 7:42 PM - +91 99020 73366: <Media omitted>\\n',\n '4/15/20, 9:49 PM - +91 98861 64835: <Media omitted>\\n',\n '4/15/20, 10:00 PM - Yashu Urs: <Media omitted>\\n',\n '4/15/20, 10:15 PM - Sinchana: <Media omitted>\\n',\n '4/15/20, 10:17 PM - +91 86603 28471: 👌\\n',\n '4/16/20, 7:20 AM - +91 98454 71826: <Media omitted>\\n',\n '4/16/20, 7:29 AM - +91 86603 28471: Good morning\\n',\n '4/16/20, 7:49 AM - Shekar Dhodapa: <Media omitted>\\n',\n '4/16/20, 8:11 AM - +91 98861 64835: <Media omitted>\\n',\n '4/16/20, 10:05 AM - Sinchana: Gd morning\\n',\n '4/16/20, 12:32 PM - Yashu Urs: https://vm.tiktok.com/WA8vWa/\\n',\n '4/16/20, 10:04 PM - +91 98861 64835: <Media omitted>\\n',\n '4/16/20, 10:05 PM - Sinchana: Gd night\\n',\n '4/17/20, 8:03 AM - +91 98861 64835: <Media omitted>\\n',\n '4/17/20, 8:46 AM - +91 98454 71826: <Media omitted>\\n',\n '4/17/20, 4:01 PM - +91 99020 73366: https://youtu.be/uDlz01lFHPk\\n',\n '4/17/20, 7:11 PM - Yashu Urs: <Media omitted>\\n',\n '4/17/20, 10:15 PM - +91 98861 64835: <Media omitted>\\n',\n '4/17/20, 10:55 PM - Sinchana: Gd morning\\n',\n '4/18/20, 7:41 AM - +91 98861 64835: <Media omitted>\\n',\n '4/18/20, 8:33 AM - +91 98454 71826: <Media omitted>\\n',\n '4/18/20, 9:12 AM - Sinchana: Gd morning\\n',\n '4/18/20, 9:23 AM - +91 86603 28471: <Media omitted>\\n',\n '4/18/20, 9:23 AM - +91 99020 73366: Nice photo 👌😊\\n',\n '4/18/20, 9:24 AM - +91 86603 28471: <Media omitted>\\n',\n '4/18/20, 11:37 AM - Pavan bro❤️: 😇\\n',\n '4/18/20, 1:19 PM - Yashu Urs: <Media omitted>\\n',\n '4/18/20, 5:17 PM - +91 99020 73366: <Media omitted>\\n',\n '4/18/20, 5:54 PM - +91 99020 73366: <Media omitted>\\n',\n '4/18/20, 6:17 PM - +91 99020 73366: <Media omitted>\\n',\n '4/18/20, 6:17 PM - +91 99020 73366: <Media omitted>\\n',\n '4/18/20, 6:17 PM - +91 99020 73366: <Media omitted>\\n',\n '4/18/20, 6:18 PM - +91 99020 73366: <Media omitted>\\n',\n '4/18/20, 7:32 PM - +91 99020 73366: <Media omitted>\\n',\n '4/18/20, 9:58 PM - +91 98861 64835: <Media omitted>\\n',\n '4/18/20, 9:59 PM - Sinchana: Gd night\\n',\n '4/18/20, 10:06 PM - +1 (315) 937-6384: Wife is always wife. Even IAS officer cannot handle. 😛😉😉😉😂😂Watch till end\\n',\n '4/18/20, 10:06 PM - +1 (315) 937-6384: <Media omitted>\\n',\n '4/19/20, 7:53 AM - +91 98861 64835: <Media omitted>\\n',\n '4/19/20, 9:25 AM - Sinchana: Gd morning\\n',\n '4/19/20, 6:54 PM - +91 99020 73366: <Media omitted>\\n',\n '4/19/20, 10:01 PM - +91 98861 64835: <Media omitted>\\n',\n '4/19/20, 10:07 PM - +91 86603 28471: <Media omitted>\\n',\n '4/20/20, 8:19 AM - +91 98861 64835: <Media omitted>\\n',\n '4/20/20, 8:39 AM - +91 98454 71826: <Media omitted>\\n',\n '4/20/20, 10:06 AM - Sinchana: Gd morning\\n',\n '4/20/20, 3:49 PM - Yashu Urs: https://vm.tiktok.com/7edtDQ/\\n',\n '4/20/20, 6:53 PM - +91 99020 73366: <Media omitted>\\n',\n '4/20/20, 6:53 PM - +91 99020 73366: <Media omitted>\\n',\n '4/20/20, 9:56 PM - +91 98861 64835: <Media omitted>\\n',\n '4/20/20, 10:05 PM - Sinchana: Gd night\\n',\n '4/20/20, 10:05 PM - +91 99020 73366: Good night 😴\\n',\n '4/20/20, 10:08 PM - +91 86603 28471: Good night\\n',\n '4/21/20, 7:30 AM - +91 98861 64835: <Media omitted>\\n',\n '4/21/20, 8:04 AM - +91 98454 71826: <Media omitted>\\n',\n '4/21/20, 9:44 AM - Sinchana: Gd morning\\n',\n '4/21/20, 6:46 PM - +91 99020 73366: https://youtu.be/B4lGhVjoMTk\\n',\n '4/21/20, 6:49 PM - +91 86603 28471: <Media omitted>\\n',\n '4/21/20, 6:50 PM - +91 99020 73366: <Media omitted>\\n',\n '4/21/20, 6:50 PM - +91 99020 73366: <Media omitted>\\n',\n '4/21/20, 6:50 PM - +91 99020 73366: <Media omitted>\\n',\n '4/21/20, 6:50 PM - +91 99020 73366: <Media omitted>\\n',\n '4/21/20, 6:50 PM - +91 99020 73366: <Media omitted>\\n',\n '4/21/20, 6:50 PM - +91 99020 73366: <Media omitted>\\n',\n '4/21/20, 9:42 PM - +91 98861 64835: <Media omitted>\\n',\n '4/21/20, 9:55 PM - Sinchana: Gd night\\n',\n '4/21/20, 10:03 PM - Shekar Dhodapa: Good night\\n',\n '4/21/20, 10:22 PM - Yashu Urs: <Media omitted>\\n',\n '4/21/20, 10:26 PM - +91 86603 28471: 🤣\\n',\n ...]"
     },
     "metadata": {},
     "execution_count": 23
    }
   ],
   "source": [
    "with open('praju.txt', 'r') as handle:\n",
    "    whatsapp_messages = handle.readlines()\n",
    "whatsapp_messages\n"
   ]
  },
  {
   "cell_type": "markdown",
   "metadata": {},
   "source": [
    "# Function for date,time,name,message exractor from line"
   ]
  },
  {
   "cell_type": "code",
   "execution_count": 30,
   "metadata": {},
   "outputs": [],
   "source": [
    "import re\n",
    "from typing import Union\n",
    "def handel_void_outputs(Data_extractor_output:str = \"\")-> Union[list,None]:\n",
    "    \"\"\"this function returns a none value if list is empty\"\"\"\n",
    "    if type(Data_extractor_output) == type(re.match('','')):\n",
    "        if Data_extractor_output.groups()[0] != None:\n",
    "            return Data_extractor_output.groups()[0]\n",
    "        else :\n",
    "            return Data_extractor_output.groups()[1]\n",
    "    elif Data_extractor_output is None:\n",
    "        return None\n",
    "    elif  len(Data_extractor_output) == 0:\n",
    "        return None\n",
    "    else:\n",
    "        return(Data_extractor_output[0])\n",
    "    \n",
    "def data_extractor(whatsapp_message:str = \"\")-> dict: \n",
    "    \"\"\"this function extracts date,time,name,messages\"\"\"\n",
    "    date = handel_void_outputs(re.findall('\\d{1}\\/\\d{2}\\/\\d{2}|\\d{2}\\/\\d{2}\\/\\d{2}',whatsapp_message))\n",
    "    time = handel_void_outputs(re.findall('\\d{1}\\:\\d{2}|\\d{2}\\:\\d{2}',whatsapp_message))\n",
    "    name = handel_void_outputs(re.search('-\\s([\\w\\s@\\-_@\\!\\*\\#]+)|-\\s(\\+\\d{2}\\s\\d{5}\\s\\d{5})',whatsapp_message))\n",
    "    messages = handel_void_outputs(re.findall(':\\s[\\w\\s@\\-_\\$\\@\\!\\*\\#\\.\\(\\)\\[\\]\\>\\<\\+\\&]*.*',whatsapp_message))\n",
    "    return({'Date':date,'Time':time,'Name_or_number':name,'Messages':messages,})"
   ]
  },
  {
   "cell_type": "markdown",
   "metadata": {},
   "source": [
    "# Makeing data frame "
   ]
  },
  {
   "cell_type": "code",
   "execution_count": 31,
   "metadata": {},
   "outputs": [
    {
     "output_type": "execute_result",
     "data": {
      "text/plain": "         Date   Time   Name_or_number                     Messages\n179   3/10/20   7:29  +91 98454 71826          : <Media omitted>\\n\n180   3/10/20   8:17  +91 98861 64835          : <Media omitted>\\n\n181   3/10/20   8:31         Sinchana               : Gd morning\\n\n182   3/10/20   9:05   Shekar Dhodapa         : Good morning all\\n\n183   3/10/20   9:10   Shekar Dhodapa          : <Media omitted>\\n\n...       ...    ...              ...                          ...\n3613  9/25/20   7:31        Yashu Urs               : Ur rite 👍👍😂😂\n3615  9/25/20   8:53        Usha Athe          : <Media omitted>\\n\n3616  9/25/20  10:23  +91 98861 64835          : <Media omitted>\\n\n3617  9/25/20  10:27         Sinchana                 : Gd night\\n\n3618  9/25/20  10:31  +91 70193 25807  : Good night sweet dreams\\n\n\n[1844 rows x 4 columns]",
      "text/html": "<div>\n<style scoped>\n    .dataframe tbody tr th:only-of-type {\n        vertical-align: middle;\n    }\n\n    .dataframe tbody tr th {\n        vertical-align: top;\n    }\n\n    .dataframe thead th {\n        text-align: right;\n    }\n</style>\n<table border=\"1\" class=\"dataframe\">\n  <thead>\n    <tr style=\"text-align: right;\">\n      <th></th>\n      <th>Date</th>\n      <th>Time</th>\n      <th>Name_or_number</th>\n      <th>Messages</th>\n    </tr>\n  </thead>\n  <tbody>\n    <tr>\n      <th>179</th>\n      <td>3/10/20</td>\n      <td>7:29</td>\n      <td>+91 98454 71826</td>\n      <td>: &lt;Media omitted&gt;\\n</td>\n    </tr>\n    <tr>\n      <th>180</th>\n      <td>3/10/20</td>\n      <td>8:17</td>\n      <td>+91 98861 64835</td>\n      <td>: &lt;Media omitted&gt;\\n</td>\n    </tr>\n    <tr>\n      <th>181</th>\n      <td>3/10/20</td>\n      <td>8:31</td>\n      <td>Sinchana</td>\n      <td>: Gd morning\\n</td>\n    </tr>\n    <tr>\n      <th>182</th>\n      <td>3/10/20</td>\n      <td>9:05</td>\n      <td>Shekar Dhodapa</td>\n      <td>: Good morning all\\n</td>\n    </tr>\n    <tr>\n      <th>183</th>\n      <td>3/10/20</td>\n      <td>9:10</td>\n      <td>Shekar Dhodapa</td>\n      <td>: &lt;Media omitted&gt;\\n</td>\n    </tr>\n    <tr>\n      <th>...</th>\n      <td>...</td>\n      <td>...</td>\n      <td>...</td>\n      <td>...</td>\n    </tr>\n    <tr>\n      <th>3613</th>\n      <td>9/25/20</td>\n      <td>7:31</td>\n      <td>Yashu Urs</td>\n      <td>: Ur rite 👍👍😂😂</td>\n    </tr>\n    <tr>\n      <th>3615</th>\n      <td>9/25/20</td>\n      <td>8:53</td>\n      <td>Usha Athe</td>\n      <td>: &lt;Media omitted&gt;\\n</td>\n    </tr>\n    <tr>\n      <th>3616</th>\n      <td>9/25/20</td>\n      <td>10:23</td>\n      <td>+91 98861 64835</td>\n      <td>: &lt;Media omitted&gt;\\n</td>\n    </tr>\n    <tr>\n      <th>3617</th>\n      <td>9/25/20</td>\n      <td>10:27</td>\n      <td>Sinchana</td>\n      <td>: Gd night\\n</td>\n    </tr>\n    <tr>\n      <th>3618</th>\n      <td>9/25/20</td>\n      <td>10:31</td>\n      <td>+91 70193 25807</td>\n      <td>: Good night sweet dreams\\n</td>\n    </tr>\n  </tbody>\n</table>\n<p>1844 rows × 4 columns</p>\n</div>"
     },
     "metadata": {},
     "execution_count": 31
    }
   ],
   "source": [
    "import pandas as pd\n",
    "\"\"\"here we are mapping Data_extractor function with whatsapp_messages\"\"\"\n",
    "data_frame_whatsapp_chat = pd.DataFrame(map(data_extractor,whatsapp_messages))\n",
    "data_frame_whatsapp_chat_without_null_values = data_frame_whatsapp_chat.dropna()\n",
    "data_frame_whatsapp_chat_without_null_values\n"
   ]
  },
  {
   "cell_type": "markdown",
   "metadata": {},
   "source": [
    "# Most active member in the group"
   ]
  },
  {
   "cell_type": "code",
   "execution_count": 32,
   "metadata": {},
   "outputs": [
    {
     "output_type": "execute_result",
     "data": {
      "text/plain": "Sinchana    326\nName: Name_or_number, dtype: int64"
     },
     "metadata": {},
     "execution_count": 32
    }
   ],
   "source": [
    "data_frame_whatsapp_chat_without_null_values['Name_or_number'].value_counts()[:1]"
   ]
  },
  {
   "cell_type": "markdown",
   "metadata": {},
   "source": [
    "# Most active date in the group"
   ]
  },
  {
   "cell_type": "code",
   "execution_count": 33,
   "metadata": {},
   "outputs": [
    {
     "output_type": "execute_result",
     "data": {
      "text/plain": "4/24/20    92\nName: Date, dtype: int64"
     },
     "metadata": {},
     "execution_count": 33
    }
   ],
   "source": [
    "data_frame_whatsapp_chat_without_null_values['Date'].value_counts()[:1]"
   ]
  },
  {
   "cell_type": "markdown",
   "metadata": {},
   "source": [
    "# Peak chatting time of the day"
   ]
  },
  {
   "cell_type": "code",
   "execution_count": 34,
   "metadata": {},
   "outputs": [],
   "source": [
    "date_time = data_frame_whatsapp_chat_without_null_values.Date + \" \"+ data_frame_whatsapp_chat_without_null_values.Time"
   ]
  },
  {
   "cell_type": "code",
   "execution_count": 35,
   "metadata": {},
   "outputs": [],
   "source": [
    "data_frame_whatsapp_chat_without_null_values['datetimes'] = date_time"
   ]
  },
  {
   "cell_type": "code",
   "execution_count": 37,
   "metadata": {},
   "outputs": [],
   "source": [
    "data_frame_whatsapp_chat_without_null_values['Date_Time'] = data_frame_whatsapp_chat_without_null_values['Date'] + ' ' + data_frame_whatsapp_chat_without_null_values['Time']\n",
    "data_frame_whatsapp_chat_without_null_values['datetimes'] = pd.to_datetime(data_frame_whatsapp_chat_without_null_values['Date_Time'])"
   ]
  },
  {
   "cell_type": "code",
   "execution_count": 41,
   "metadata": {},
   "outputs": [
    {
     "output_type": "execute_result",
     "data": {
      "text/plain": "         Date   Time   Name_or_number                     Messages  \\\n179   3/10/20   7:29  +91 98454 71826          : <Media omitted>\\n   \n180   3/10/20   8:17  +91 98861 64835          : <Media omitted>\\n   \n181   3/10/20   8:31         Sinchana               : Gd morning\\n   \n182   3/10/20   9:05   Shekar Dhodapa         : Good morning all\\n   \n183   3/10/20   9:10   Shekar Dhodapa          : <Media omitted>\\n   \n...       ...    ...              ...                          ...   \n3613  9/25/20   7:31        Yashu Urs               : Ur rite 👍👍😂😂   \n3615  9/25/20   8:53        Usha Athe          : <Media omitted>\\n   \n3616  9/25/20  10:23  +91 98861 64835          : <Media omitted>\\n   \n3617  9/25/20  10:27         Sinchana                 : Gd night\\n   \n3618  9/25/20  10:31  +91 70193 25807  : Good night sweet dreams\\n   \n\n               datetimes      Date_Time       session  \n179  2020-03-10 07:29:00   3/10/20 7:29  EarlyMorning  \n180  2020-03-10 08:17:00   3/10/20 8:17       Morning  \n181  2020-03-10 08:31:00   3/10/20 8:31       Morning  \n182  2020-03-10 09:05:00   3/10/20 9:05       Morning  \n183  2020-03-10 09:10:00   3/10/20 9:10       Morning  \n...                  ...            ...           ...  \n3613 2020-09-25 07:31:00   9/25/20 7:31  EarlyMorning  \n3615 2020-09-25 08:53:00   9/25/20 8:53       Morning  \n3616 2020-09-25 10:23:00  9/25/20 10:23       Morning  \n3617 2020-09-25 10:27:00  9/25/20 10:27       Morning  \n3618 2020-09-25 10:31:00  9/25/20 10:31       Morning  \n\n[1844 rows x 7 columns]",
      "text/html": "<div>\n<style scoped>\n    .dataframe tbody tr th:only-of-type {\n        vertical-align: middle;\n    }\n\n    .dataframe tbody tr th {\n        vertical-align: top;\n    }\n\n    .dataframe thead th {\n        text-align: right;\n    }\n</style>\n<table border=\"1\" class=\"dataframe\">\n  <thead>\n    <tr style=\"text-align: right;\">\n      <th></th>\n      <th>Date</th>\n      <th>Time</th>\n      <th>Name_or_number</th>\n      <th>Messages</th>\n      <th>datetimes</th>\n      <th>Date_Time</th>\n      <th>session</th>\n    </tr>\n  </thead>\n  <tbody>\n    <tr>\n      <th>179</th>\n      <td>3/10/20</td>\n      <td>7:29</td>\n      <td>+91 98454 71826</td>\n      <td>: &lt;Media omitted&gt;\\n</td>\n      <td>2020-03-10 07:29:00</td>\n      <td>3/10/20 7:29</td>\n      <td>EarlyMorning</td>\n    </tr>\n    <tr>\n      <th>180</th>\n      <td>3/10/20</td>\n      <td>8:17</td>\n      <td>+91 98861 64835</td>\n      <td>: &lt;Media omitted&gt;\\n</td>\n      <td>2020-03-10 08:17:00</td>\n      <td>3/10/20 8:17</td>\n      <td>Morning</td>\n    </tr>\n    <tr>\n      <th>181</th>\n      <td>3/10/20</td>\n      <td>8:31</td>\n      <td>Sinchana</td>\n      <td>: Gd morning\\n</td>\n      <td>2020-03-10 08:31:00</td>\n      <td>3/10/20 8:31</td>\n      <td>Morning</td>\n    </tr>\n    <tr>\n      <th>182</th>\n      <td>3/10/20</td>\n      <td>9:05</td>\n      <td>Shekar Dhodapa</td>\n      <td>: Good morning all\\n</td>\n      <td>2020-03-10 09:05:00</td>\n      <td>3/10/20 9:05</td>\n      <td>Morning</td>\n    </tr>\n    <tr>\n      <th>183</th>\n      <td>3/10/20</td>\n      <td>9:10</td>\n      <td>Shekar Dhodapa</td>\n      <td>: &lt;Media omitted&gt;\\n</td>\n      <td>2020-03-10 09:10:00</td>\n      <td>3/10/20 9:10</td>\n      <td>Morning</td>\n    </tr>\n    <tr>\n      <th>...</th>\n      <td>...</td>\n      <td>...</td>\n      <td>...</td>\n      <td>...</td>\n      <td>...</td>\n      <td>...</td>\n      <td>...</td>\n    </tr>\n    <tr>\n      <th>3613</th>\n      <td>9/25/20</td>\n      <td>7:31</td>\n      <td>Yashu Urs</td>\n      <td>: Ur rite 👍👍😂😂</td>\n      <td>2020-09-25 07:31:00</td>\n      <td>9/25/20 7:31</td>\n      <td>EarlyMorning</td>\n    </tr>\n    <tr>\n      <th>3615</th>\n      <td>9/25/20</td>\n      <td>8:53</td>\n      <td>Usha Athe</td>\n      <td>: &lt;Media omitted&gt;\\n</td>\n      <td>2020-09-25 08:53:00</td>\n      <td>9/25/20 8:53</td>\n      <td>Morning</td>\n    </tr>\n    <tr>\n      <th>3616</th>\n      <td>9/25/20</td>\n      <td>10:23</td>\n      <td>+91 98861 64835</td>\n      <td>: &lt;Media omitted&gt;\\n</td>\n      <td>2020-09-25 10:23:00</td>\n      <td>9/25/20 10:23</td>\n      <td>Morning</td>\n    </tr>\n    <tr>\n      <th>3617</th>\n      <td>9/25/20</td>\n      <td>10:27</td>\n      <td>Sinchana</td>\n      <td>: Gd night\\n</td>\n      <td>2020-09-25 10:27:00</td>\n      <td>9/25/20 10:27</td>\n      <td>Morning</td>\n    </tr>\n    <tr>\n      <th>3618</th>\n      <td>9/25/20</td>\n      <td>10:31</td>\n      <td>+91 70193 25807</td>\n      <td>: Good night sweet dreams\\n</td>\n      <td>2020-09-25 10:31:00</td>\n      <td>9/25/20 10:31</td>\n      <td>Morning</td>\n    </tr>\n  </tbody>\n</table>\n<p>1844 rows × 7 columns</p>\n</div>"
     },
     "metadata": {},
     "execution_count": 41
    }
   ],
   "source": [
    " b = data_frame_whatsapp_chat_without_null_values.assign(session=pd.cut(data_frame_whatsapp_chat_without_null_values.datetimes.dt.hour,[0,3,7,12,17,19,24],labels=['MidNight','EarlyMorning','Morning','Afternoon','evening','night']))\n",
    " b"
   ]
  },
  {
   "cell_type": "code",
   "execution_count": 42,
   "metadata": {},
   "outputs": [
    {
     "output_type": "execute_result",
     "data": {
      "text/plain": "Morning         1359\nEarlyMorning     344\nMidNight         141\nnight              0\nevening            0\nAfternoon          0\nName: session, dtype: int64"
     },
     "metadata": {},
     "execution_count": 42
    }
   ],
   "source": [
    "b.session.value_counts()"
   ]
  },
  {
   "cell_type": "markdown",
   "metadata": {},
   "source": [
    "# Most deactive person in the group among who messaged atlest once"
   ]
  },
  {
   "cell_type": "code",
   "execution_count": 43,
   "metadata": {},
   "outputs": [
    {
     "output_type": "execute_result",
     "data": {
      "text/plain": "['Kumar Dhodapa']"
     },
     "metadata": {},
     "execution_count": 43
    }
   ],
   "source": [
    "number_of_messages_per_person = data_frame_whatsapp_chat_without_null_values['Name_or_number'].value_counts()\n",
    "min_no_of_messages = min(number_of_messages_per_person)\n",
    "most_deactive_member = number_of_messages_per_person[number_of_messages_per_person==min_no_of_messages]\n",
    "list(most_deactive_member.keys())"
   ]
  },
  {
   "cell_type": "markdown",
   "metadata": {},
   "source": [
    "# Average messages in a day"
   ]
  },
  {
   "cell_type": "code",
   "execution_count": 44,
   "metadata": {},
   "outputs": [
    {
     "output_type": "execute_result",
     "data": {
      "text/plain": "12.63013698630137"
     },
     "metadata": {},
     "execution_count": 44
    }
   ],
   "source": [
    "data_frame_whatsapp_chat_without_null_values['Date'].value_counts().mean()"
   ]
  },
  {
   "cell_type": "markdown",
   "metadata": {},
   "source": [
    "# person who sends more emojies"
   ]
  },
  {
   "cell_type": "code",
   "execution_count": 45,
   "metadata": {
    "collapsed": true,
    "jupyter": {
     "outputs_hidden": true
    }
   },
   "outputs": [
    {
     "output_type": "execute_result",
     "data": {
      "text/plain": "[[],\n [],\n [],\n [],\n [],\n [],\n ['👇'],\n ['😂', '😂'],\n [],\n ['🤣', '🤣'],\n ['😂', '😂'],\n [],\n ['😆', '😆'],\n [],\n [],\n [],\n [],\n [],\n [],\n [],\n [],\n [],\n ['😂', '😂'],\n ['🤣', '🤣', '🤣'],\n ['😂', '😂'],\n [],\n ['😂', '😂'],\n [],\n [],\n [],\n [],\n [],\n ['🤣', '🤣'],\n ['😀', '😀', '😀', '😀'],\n [],\n [],\n [],\n ['🌞', '🌞'],\n ['🤩', '🤩'],\n [],\n [],\n [],\n ['🤣', '🤣', '🤣', '😁', '😁', '😁'],\n ['😉'],\n [],\n [],\n ['😳', '😳'],\n [],\n [],\n [],\n [],\n [],\n [],\n [],\n [],\n [],\n [],\n [],\n [],\n [],\n [],\n [],\n [],\n [],\n [],\n [],\n [],\n [],\n [],\n [],\n [],\n [],\n [],\n [],\n [],\n ['🎊', '🥳', '🥳'],\n ['💐', '💐', '😍'],\n ['🥰', '💖'],\n [],\n ['💐', '🎉', '🎊', '🎁', '🎈'],\n [],\n ['🎉'],\n ['😍', '🎂', '🎂', '👍', '🏻'],\n [],\n [],\n ['🎂', '🎈', '🎉'],\n [],\n ['🤗', '😘'],\n [],\n [],\n [],\n [],\n [],\n ['👌', '👍', '👍'],\n ['👌', '👌'],\n [],\n ['😂', '😁'],\n [],\n [],\n [],\n [],\n [],\n [],\n [],\n [],\n [],\n [],\n [],\n [],\n [],\n [],\n [],\n [],\n [],\n [],\n [],\n [],\n ['😄', '😄'],\n [],\n [],\n [],\n [],\n [],\n [],\n [],\n [],\n [],\n [],\n [],\n [],\n [],\n [],\n [],\n ['😷'],\n [],\n [],\n [],\n [],\n [],\n [],\n [],\n [],\n [],\n [],\n [],\n [],\n [],\n [],\n [],\n [],\n [],\n [],\n [],\n [],\n [],\n [],\n [],\n ['🙄', '🙄'],\n [],\n [],\n [],\n [],\n [],\n [],\n [],\n [],\n ['🤭', '🤭'],\n ['🤣', '🤣', '🤣'],\n ['😞'],\n [],\n [],\n ['😴', '💤'],\n [],\n [],\n [],\n [],\n [],\n [],\n [],\n [],\n ['👆'],\n ['👍'],\n [],\n [],\n [],\n [],\n [],\n [],\n [],\n [],\n [],\n ['👌', '👌', '👌'],\n [],\n [],\n [],\n [],\n [],\n [],\n [],\n [],\n [],\n [],\n ['🤦', '🏻', '♂'],\n ['🤦', '🏿', '♀', '🤦', '♂'],\n [],\n [],\n [],\n ['😅', '😅'],\n [],\n [],\n [],\n ['👏', '👏', '👏', '👏'],\n [],\n [],\n [],\n [],\n [],\n ['😂'],\n [],\n ['🤣', '🤣', '🤣', '🤣'],\n [],\n [],\n [],\n [],\n [],\n [],\n [],\n [],\n [],\n [],\n ['😊', '👍', '🏻'],\n [],\n [],\n [],\n [],\n ['🥰'],\n [],\n [],\n ['💐'],\n [],\n [],\n ['❤'],\n [],\n [],\n ['😅', '😅'],\n [],\n [],\n [],\n [],\n [],\n [],\n [],\n [],\n ['💐', '🎊', '🎉', '🎁'],\n [],\n [],\n [],\n ['🎉'],\n [],\n [],\n [],\n ['🎂', '🥳'],\n [],\n [],\n ['😍', '😍', '🥳', '🎊', '🎊'],\n [],\n ['🤗', '🤗', '🤗', '😊', '🍰', '🥧'],\n [],\n [],\n ['🙏'],\n [],\n ['🎂', '🎈'],\n [],\n [],\n [],\n [],\n [],\n [],\n [],\n ['🤣'],\n [],\n [],\n [],\n [],\n [],\n [],\n [],\n [],\n ['🤣'],\n ['🤣', '🤣'],\n [],\n [],\n [],\n [],\n [],\n [],\n ['😃', '😃'],\n [],\n ['🤣', '🤣'],\n [],\n ['😆', '😆'],\n [],\n ['😴'],\n [],\n [],\n [],\n [],\n ['💐', '🎊', '🎁'],\n ['💐', '🥳'],\n [],\n ['🎊', '🥳', '🥳'],\n ['🍰', '🥧', '🧁', '✨'],\n [],\n [],\n ['🎉'],\n ['😊', '🥰'],\n ['🎂', '🥳', '🎉'],\n ['😊'],\n [],\n [],\n [],\n ['😊'],\n [],\n [],\n [],\n [],\n [],\n [],\n [],\n [],\n [],\n [],\n [],\n [],\n [],\n [],\n [],\n [],\n [],\n [],\n [],\n [],\n [],\n [],\n [],\n ['😂', '😂', '😂'],\n [],\n [],\n [],\n [],\n [],\n [],\n [],\n [],\n [],\n [],\n [],\n [],\n [],\n [],\n ['💓', '😍', '❣', '❣', '❣'],\n ['😍', '😍', '😍'],\n [],\n [],\n [],\n [],\n [],\n [],\n [],\n [],\n [],\n [],\n [],\n [],\n [],\n [],\n ['👌', '👌', '👌', '👌'],\n [],\n ['👌', '👌', '👌', '👌'],\n [],\n [],\n [],\n [],\n ['😍', '😍', '😍', '😍'],\n ['😍', '😍', '😍'],\n ['👌', '👌'],\n [],\n [],\n [],\n [],\n [],\n [],\n [],\n [],\n [],\n [],\n [],\n [],\n [],\n ['😂', '😂', '👌', '👌'],\n ['😆', '😆', '😅', '😅', '😅'],\n ['👌'],\n [],\n [],\n [],\n [],\n [],\n [],\n [],\n [],\n [],\n [],\n ['👌'],\n [],\n ['😆', '😆', '🤦', '🏿', '♀', '🤦', '🏿', '♀'],\n ['😍'],\n ['😍'],\n [],\n [],\n [],\n [],\n [],\n [],\n [],\n [],\n ['😴'],\n [],\n ['😴'],\n [],\n ['😍', '❤'],\n ['🤗', '❤'],\n [],\n [],\n [],\n [],\n [],\n [],\n ['🤗'],\n [],\n [],\n [],\n [],\n [],\n [],\n [],\n ['👌'],\n [],\n [],\n [],\n [],\n [],\n [],\n [],\n [],\n [],\n [],\n [],\n [],\n [],\n [],\n [],\n [],\n [],\n [],\n ['👌', '😊'],\n [],\n ['😇'],\n [],\n [],\n [],\n [],\n [],\n [],\n [],\n [],\n [],\n [],\n [],\n [],\n [],\n [],\n [],\n [],\n [],\n [],\n [],\n [],\n [],\n [],\n [],\n ['😴'],\n [],\n [],\n [],\n [],\n [],\n [],\n [],\n [],\n [],\n [],\n [],\n [],\n [],\n [],\n [],\n [],\n ['🤣'],\n [],\n [],\n [],\n [],\n ['👌', '👌'],\n [],\n [],\n ['😴'],\n [],\n [],\n [],\n [],\n [],\n ['😂'],\n ['🤭', '😂', '😂'],\n [],\n [],\n [],\n [],\n ['😂', '😂', '😅', '😅'],\n [],\n [],\n [],\n ['🎉'],\n ['❤'],\n ['💖'],\n ['💐'],\n [],\n [],\n [],\n ['🙏'],\n [],\n [],\n ['🎂', '🎈'],\n [],\n ['🎂', '🥳'],\n [],\n [],\n [],\n [],\n [],\n [],\n [],\n [],\n [],\n [],\n [],\n [],\n [],\n [],\n [],\n ['😆', '😆'],\n ['🤭', '🤭', '😅', '😅'],\n ['🙌', '🏻'],\n [],\n ['😆', '😆', '😁', '😁'],\n [],\n [],\n ['🤗'],\n [],\n [],\n [],\n [],\n [],\n [],\n [],\n ['💺'],\n [],\n [],\n [],\n [],\n [],\n [],\n [],\n [],\n [],\n [],\n [],\n [],\n [],\n [],\n [],\n [],\n [],\n [],\n [],\n [],\n [],\n [],\n [],\n [],\n [],\n [],\n [],\n [],\n [],\n [],\n [],\n [],\n [],\n [],\n [],\n [],\n [],\n [],\n [],\n [],\n [],\n [],\n [],\n [],\n ['🤪', '😂', '👌', '🏻'],\n [],\n [],\n [],\n [],\n [],\n [],\n [],\n ['😲', '😲', '😲', '😲'],\n [],\n [],\n [],\n [],\n [],\n [],\n [],\n [],\n [],\n ['🙏'],\n [],\n [],\n [],\n ['😊'],\n [],\n ['😍', '🥳', '🎊'],\n [],\n [],\n [],\n [],\n [],\n [],\n [],\n [],\n [],\n [],\n [],\n [],\n [],\n [],\n ['😲', '😲', '😲', '😲'],\n [],\n ['😂'],\n ['😅', '😅', '😅', '😉', '😝'],\n [],\n [],\n [],\n [],\n [],\n [],\n ['😁'],\n [],\n [],\n [],\n [],\n [],\n [],\n [],\n [],\n [],\n [],\n [],\n [],\n [],\n [],\n [],\n [],\n [],\n [],\n [],\n ['❤'],\n [],\n [],\n [],\n ['😀'],\n [],\n [],\n [],\n [],\n [],\n [],\n [],\n [],\n ['🙏'],\n [],\n ['🎉'],\n [],\n ['😔'],\n [],\n [],\n [],\n [],\n [],\n [],\n [],\n [],\n [],\n [],\n [],\n [],\n [],\n [],\n [],\n [],\n [],\n [],\n [],\n [],\n [],\n [],\n [],\n [],\n [],\n [],\n ['😅', '😅'],\n [],\n [],\n [],\n [],\n ['❣'],\n ['♥', '😍'],\n [],\n ['💞', '💞'],\n [],\n ['😘'],\n ['😘'],\n ['🤗'],\n ['🤗'],\n ['🙏', '🏻'],\n ['🥰'],\n ['🥰', '🤗'],\n ['✨', '💫', '😊', '😊', '😊'],\n ['🤗'],\n ['😊'],\n [],\n [],\n ['🙏', '🏻'],\n [],\n ['🇮', '🇳'],\n [],\n ['😉', '😉', '😉', '😉', '🤣', '🤣', '🤣', '🤣', '🤣'],\n ['😂', '😂'],\n ['🤣', '🤣', '🤣'],\n [],\n [],\n [],\n [],\n ['😳', '😳', '👌', '👌'],\n ['🙈'],\n [],\n [],\n [],\n [],\n [],\n [],\n [],\n ['😅', '😅', '😅'],\n [],\n [],\n [],\n [],\n ['😅', '😅', '😅'],\n ['🤗', '👍', '🏻'],\n [],\n [],\n [],\n [],\n [],\n [],\n [],\n [],\n [],\n [],\n [],\n [],\n [],\n [],\n [],\n [],\n [],\n [],\n [],\n [],\n [],\n [],\n [],\n [],\n [],\n [],\n [],\n [],\n [],\n [],\n [],\n [],\n [],\n [],\n [],\n [],\n [],\n [],\n [],\n [],\n [],\n ['🙋', '😊'],\n ['☺', '☺'],\n [],\n [],\n [],\n ['🥳', '♥'],\n ['🎉'],\n ['😊'],\n [],\n [],\n ['😘', '😘', '🤗', '😍'],\n ['😍'],\n ['🎂', '🎈'],\n [],\n ['🙏'],\n [],\n [],\n [],\n ['🤗', '🥳', '🎂'],\n [],\n [],\n [],\n [],\n ['😊'],\n ['🎂', '🥳'],\n ['😊'],\n [],\n ['😊'],\n [],\n ['👌', '👌'],\n ['👌', '👌'],\n ['😊'],\n [],\n [],\n ['👌', '👌'],\n [],\n [],\n [],\n [],\n [],\n [],\n [],\n [],\n ['🎂', '🎂', '🥳', '🥳', '🥳'],\n [],\n [],\n ['🙏', '😍'],\n ['♥', '😍'],\n ['🤝'],\n [],\n [],\n [],\n [],\n [],\n [],\n ['💐', '☺'],\n [],\n [],\n [],\n [],\n [],\n [],\n [],\n [],\n [],\n [],\n [],\n [],\n [],\n [],\n [],\n [],\n [],\n [],\n [],\n [],\n [],\n [],\n [],\n [],\n [],\n [],\n [],\n [],\n [],\n [],\n [],\n [],\n [],\n [],\n [],\n [],\n [],\n ['👌', '👌'],\n [],\n [],\n [],\n [],\n [],\n [],\n [],\n [],\n [],\n [],\n [],\n [],\n [],\n [],\n [],\n [],\n [],\n [],\n [],\n [],\n [],\n [],\n [],\n [],\n ['😆', '😆', '😆', '🙈'],\n [],\n [],\n [],\n [],\n [],\n [],\n [],\n [],\n [],\n [],\n [],\n [],\n [],\n [],\n [],\n ['😊', '👍', '🏻'],\n ['😀', '🥰'],\n ['👌', '👌', '👌', '👌'],\n ['👌', '👌', '👌', '👌', '🏻'],\n ['👌'],\n [],\n [],\n [],\n [],\n [],\n [],\n [],\n ['🌞', '🌞'],\n [],\n [],\n [],\n [],\n ['😊'],\n [],\n [],\n [],\n [],\n [],\n [],\n ['😉'],\n ['😅', '😅'],\n [],\n [],\n ['😁'],\n ['😅', '😅', '😅'],\n ['😴', '😘', '💤'],\n ['😍', '♥'],\n [],\n [],\n [],\n [],\n [],\n [],\n [],\n [],\n [],\n [],\n [],\n [],\n ...]"
     },
     "metadata": {},
     "execution_count": 45
    }
   ],
   "source": [
    "import emoji\n",
    "messages =  list(data_frame_whatsapp_chat_without_null_values['Messages'].values)\n",
    "def extract_emojis(s):\n",
    "    return [c for c in s if c in emoji.UNICODE_EMOJI]\n",
    "emojies_in_chat = list(map(extract_emojis,messages))\n",
    "emojies_in_chat\n"
   ]
  },
  {
   "cell_type": "code",
   "execution_count": 46,
   "metadata": {},
   "outputs": [],
   "source": [
    "\"\"\"here we are creating new column emojies \"\"\"\n",
    "data_frame_whatsapp_chat_without_null_values['emojies'] = emojies_in_chat"
   ]
  },
  {
   "cell_type": "code",
   "execution_count": 47,
   "metadata": {
    "collapsed": true,
    "jupyter": {
     "outputs_hidden": true
    }
   },
   "outputs": [
    {
     "output_type": "execute_result",
     "data": {
      "text/plain": "Name_or_number\nSinchana           141\n+91 99020 73366     94\nAjay Cousin         87\nPavan bro           80\nYashu Urs           64\n+91 98454 71826     60\n+91 86603 28471     51\nLakshmi Sis         43\nRoopa Akka          28\n+91 70193 25807     26\nVijay @cousin        9\nPrajwal              9\nShekar Dhodapa       4\nBharath Dhodapa      3\nAppa@                2\nAmma Jio             0\nSam Athge            0\n+91 98861 64835      0\nUsha Athe            0\nKumar Dhodapa        0\nName: number_of_emojies, dtype: int64"
     },
     "metadata": {},
     "execution_count": 47
    }
   ],
   "source": [
    "\"\"\"here we are using groupby function to find how many emojies sent by each person\"\"\"\n",
    "data_frame_whatsapp_chat_without_null_values['number_of_emojies'] = data_frame_whatsapp_chat_without_null_values['emojies'].apply(lambda x : len(x))\n",
    "sum_of_emojies = data_frame_whatsapp_chat_without_null_values.groupby(\"Name_or_number\")['number_of_emojies'].sum()\n",
    "sum_of_emojies.sort_values(ascending = False)"
   ]
  },
  {
   "cell_type": "code",
   "execution_count": 48,
   "metadata": {},
   "outputs": [],
   "source": [
    "emoji_data_frame = pd.DataFrame(sum_of_emojies)"
   ]
  },
  {
   "cell_type": "code",
   "execution_count": 49,
   "metadata": {
    "collapsed": true,
    "jupyter": {
     "outputs_hidden": true
    }
   },
   "outputs": [
    {
     "output_type": "execute_result",
     "data": {
      "text/plain": "                 number_of_emojies\nName_or_number                    \nSinchana                       141\n+91 99020 73366                 94\nAjay Cousin                     87\nPavan bro                       80\nYashu Urs                       64\n+91 98454 71826                 60\n+91 86603 28471                 51\nLakshmi Sis                     43\nRoopa Akka                      28\n+91 70193 25807                 26\nPrajwal                          9\nVijay @cousin                    9\nShekar Dhodapa                   4\nBharath Dhodapa                  3\nAppa@                            2\nKumar Dhodapa                    0\nAmma Jio                         0\nSam Athge                        0\n+91 98861 64835                  0\nUsha Athe                        0",
      "text/html": "<div>\n<style scoped>\n    .dataframe tbody tr th:only-of-type {\n        vertical-align: middle;\n    }\n\n    .dataframe tbody tr th {\n        vertical-align: top;\n    }\n\n    .dataframe thead th {\n        text-align: right;\n    }\n</style>\n<table border=\"1\" class=\"dataframe\">\n  <thead>\n    <tr style=\"text-align: right;\">\n      <th></th>\n      <th>number_of_emojies</th>\n    </tr>\n    <tr>\n      <th>Name_or_number</th>\n      <th></th>\n    </tr>\n  </thead>\n  <tbody>\n    <tr>\n      <th>Sinchana</th>\n      <td>141</td>\n    </tr>\n    <tr>\n      <th>+91 99020 73366</th>\n      <td>94</td>\n    </tr>\n    <tr>\n      <th>Ajay Cousin</th>\n      <td>87</td>\n    </tr>\n    <tr>\n      <th>Pavan bro</th>\n      <td>80</td>\n    </tr>\n    <tr>\n      <th>Yashu Urs</th>\n      <td>64</td>\n    </tr>\n    <tr>\n      <th>+91 98454 71826</th>\n      <td>60</td>\n    </tr>\n    <tr>\n      <th>+91 86603 28471</th>\n      <td>51</td>\n    </tr>\n    <tr>\n      <th>Lakshmi Sis</th>\n      <td>43</td>\n    </tr>\n    <tr>\n      <th>Roopa Akka</th>\n      <td>28</td>\n    </tr>\n    <tr>\n      <th>+91 70193 25807</th>\n      <td>26</td>\n    </tr>\n    <tr>\n      <th>Prajwal</th>\n      <td>9</td>\n    </tr>\n    <tr>\n      <th>Vijay @cousin</th>\n      <td>9</td>\n    </tr>\n    <tr>\n      <th>Shekar Dhodapa</th>\n      <td>4</td>\n    </tr>\n    <tr>\n      <th>Bharath Dhodapa</th>\n      <td>3</td>\n    </tr>\n    <tr>\n      <th>Appa@</th>\n      <td>2</td>\n    </tr>\n    <tr>\n      <th>Kumar Dhodapa</th>\n      <td>0</td>\n    </tr>\n    <tr>\n      <th>Amma Jio</th>\n      <td>0</td>\n    </tr>\n    <tr>\n      <th>Sam Athge</th>\n      <td>0</td>\n    </tr>\n    <tr>\n      <th>+91 98861 64835</th>\n      <td>0</td>\n    </tr>\n    <tr>\n      <th>Usha Athe</th>\n      <td>0</td>\n    </tr>\n  </tbody>\n</table>\n</div>"
     },
     "metadata": {},
     "execution_count": 49
    }
   ],
   "source": [
    "emoji_data_frame.sort_values(\"number_of_emojies\",ascending=False)"
   ]
  },
  {
   "cell_type": "markdown",
   "metadata": {},
   "source": [
    "# word cloud"
   ]
  },
  {
   "cell_type": "code",
   "execution_count": 50,
   "metadata": {},
   "outputs": [],
   "source": [
    "\"\"\"here we deleted messages which includes multi media content and urls\"\"\"\n",
    "data_frame_whatsapp_chat_without_null_values['messages_without'] = data_frame_whatsapp_chat_without_null_values['Messages'].apply(lambda x : \"\\u200b\" in x or ': <Media omitted>\\n' in x or 'https' in x )"
   ]
  },
  {
   "cell_type": "code",
   "execution_count": 51,
   "metadata": {
    "collapsed": true,
    "jupyter": {
     "outputs_hidden": true
    }
   },
   "outputs": [
    {
     "output_type": "execute_result",
     "data": {
      "text/plain": "\"Gd morning Good morning all This is what Corona virus has done to the Airline industry👇 😂😂 🤣🤣 😂😂 😆😆 Gd night Due to shortage and expensive rates of mask. Organic mask 😂😂 🤣🤣🤣 When you are trying to reach someone urgently😂😂 😂😂 Gd  night Dear HR Good morning all 🤣🤣 😀😀😀😀 If you press one it will stop Gd morning Good morning 🌞 everyone 🌞 🤩🤩 Reply from HR Roopa madam 🤣🤣🤣😁😁😁 😉 😳😳 Gd night Good morning all At this rate .......China will b back in action very soon, maybe much faster than the world expects Gd night Good morning Good morning Gd morning Good morning all All mothers beware of momorona virus. Virus affects only mothers as kids are staying longer at home and are not allowed outside Gd night Good morning all Good morning Good morning all Good morning Good morning Happy birthday rishaan🎊🥳🥳 Happy birthday Rishaan. God bless💐💐😍 Happy birthday rishaan🥰💖 Happy birthday Rishan💐🎉🎊🎁🎈 Happybirthday Rishaan. God bless Happy birthday  🎉 rishaan Happy birthday Hero 😍🎂🎂👍🏻 Usha Happy birthday 🎂🎈🎉 Rishaan Happy Birthday baby🤗 have a great year😘 Corona Virus Cases Happy birthday putta When Hindus were wishing each other with Namaste - They laughed 👌👍👍 👌👌 When Hindus were wishing  each other with Namaste - They laughed See Hindus worship animals and bird's and trees. Now because of Corona virus everyone wants to practice what  grandparents told to everyone 😂😁 and people want to become vegetarian and stop eating non vege Earlier days people us to walk so they healthy and then using stated bullock cart and hors cart to travel. IN1817 cycle invented  but walking and cycling is good exercise people where healthy  .IN  1817 Bike was invented so pollution started  . people started cutting tress for fire and fule and wood so then the forest became samll and samller so people started  invaded the home of birds and animals so the birds animals did not any place to stay so they started come to village and city so now people are complaining that birds and animals are thier and hindus worship birds and animals but some people startes eating birds and animals . so now because of coronavirus people stopped eating birds and animals. Now everyone want to following  hindu brahmin religion Many more happy returns of the day God bless rishaan Gd night Good morning all Good morning Gd morning A A Wt happen arjun This message was deleted Some old memories Hooooooo 😄😄 Gd night Goodnight all Gn Good morning all Good morning Gd morning Corona made everyone a Jain 😷 Hello i kindly request you not to come out of your house after 10 pm tonight till tomorrow 5 am.... As their will be spraying medicine in the air in order to kill the COVID-19 Gd night Good morning all Good morning Gd morning Gd night Good night 🙄🙄 Gd morning This message was deleted Ho corona virus can speak I didn't know Self appraisal or consoling Latest police report for last 24 hours This message was deleted 🤭🤭 🤣🤣🤣 Neither.. realty😞 Gd night Good night 😴💤 Good morning all Gd morning 👆All WhatsApp Group Admins please Read para 6. It is now a criminal offence to post or forward  anything about Corona Virus without permission of the relevant authority 👍 Gd morning 👌👌👌gunda Good night Good morning all Gd morning Please do not post anything on Corona Namma Jana Ganapathi maadi andre , Ganapathi appanne maadodu 🤦🏻\\u200d♂ 🤦🏿\\u200d♀🤦\\u200d♂ Gd night 😅😅 Super bavajiii, 👏👏👏👏 LORD KRISHNA IS THE SUPREME POWER. HE IS SUTHARDARI, HE KNOWS EVERYTHING. IT'S ALL TIME WILL SPEAK Bangalore Corona viruses update 😂 🤣🤣🤣🤣 Seriously- another new virus from China Gd night Gd night Good night Good night Happy ugadi to everyone 😊👍🏻 Good morning and Happy Ugadi to all Good morning and Happy Ugadi to all🥰 Happy ugadi to all 💐 Happy  ugadi  to  all my  family members Hapie ugadi all❤️ Super ideaa😅😅 Gd night Gd morning This qurantine is Gods way of accepting a ton of wishes of Happiest birthday Krishna bhava 💐🎊🎉🎁 Happy birthday Krishna Tq Tq mava Happy birthday 🎉 bhavaji Tq Happy birthday  Krishna Tq mava Happy birthday bhava 🎂🥳 Tq Yasu Happiest birthday bava😍😍🥳🎊🎊 Tq sichanna Many more happy returns of the day bava 🤗🤗🤗😊🍰🥧 Tq pavan Many more happy birthday krishna god bless you Happy Birthday Krishna.. God bless 🙏 Tq Teju Happy Birthday 🎂🎈 krishna bhava Tq atthe Tq atthe Tq arjun 9901659879 Tq akka 🤣 Gd night Gd morning ಉಚಿತವಾಗಿ ಪಡೆಯಿರಿ 499 GB Data ಮತ್ತು Unlimited Free calls 5 ತಿಂಗಳು 🤣 🤣🤣 Gd night Gd morning Nityananda's latest high-profile devotee.....😃😃 🤣🤣 😆😆 Gd night Good night 😴 Good morning all Good morning Many more happy returns of the day God bless you arjun Happiest birthday Arjun 💐🎊🎁 Happy birthday arjun💐🥳 Happy birthday arjun God bless you Happiest birthday anna🎊🥳🥳 Many more happy returns of the day brother 🍰🥧🧁✨ Many  more  happy  returns  of Thank you everyone Happy birthday 🎉 arjun bhai Thank you 😊🥰 Happy birthday Arjun 🎂🥳🎉 Thank you 😊 Many more happy birthday arjun god bless you Thank you 😊 Tomorrow as per kanchi mutt tomorrow they are asking everyone to light lamp between 10 and 11 am to create lamp wheat flour, turmeric powder with gingery oil Create small lamps as the number of people in everyone house if you have 4 people the 4 lamps then use gingelly oil or ghee and use a wick to light the lamp Good night Gd night Gd night Gd  night  all Good night Gd morning Gd night 😂😂😂 Gd morning Gd night Wow 💓😍❣️❣️❣️ Super 😍😍😍 Jai jai roppakageee jai Jai jai ramyakageee jai 👌👌👌👌 Ayee 👌👌👌👌 Savi nenapugalu madam Ramya. Tq Thanks for dis pic Super akka😍😍😍😍 😍😍😍 Wow.. nice pic 👌👌 Colgate smile akka Huu 😂😂👌👌 😆😆😅😅😅 Great dance 👌 Gd night Good night Thank you sinchu 👌 😆😆🤦🏿\\u200d♀🤦🏿\\u200d♀ Welcome akka😍 😍 Gd night Gd morning Good night 😴 Gd night Good night 😴 😍❤ 🤗❤ Gombe 🤗 Gd morning Good morning 👌 Good morning Gd morning Gd night Gd morning Gd morning Nice photo 👌😊 😇 Gd night Gd morning Gd morning Gd night Good night 😴 Good night Gd morning Gd night Good night 🤣 Gd morning Instead of IPL score, we are watching corona score 👌👌 Good night Good night 😴 Gd night Gd morning 😂 🤭😂😂 Stop using Facebook data leaked This message was deleted 😂😂😅😅 Gd night Happy birthday chikkamma Happy birthday 🎉  chikkama Hapie Born Day Dhodama❤️ Happy birthday chikamma 💖 Happy birthday Gayathri Aunty 💐 Many more happy returns of the day God bless you atthe Happy birthday Gayathri.. God bless 🙏 This message was deleted Happy Birthday 🎂🎈 Gayathri chikamma Happy birthday Gayathri. God bless you Happy birthday Gayatri chikamma 🎂🥳 Many more happy birthday gayathri akka Usha This message was deleted This message was deleted Thago ajay cake Thinnu 😆😆 🤭🤭😅😅 🙌🏻 😆😆😁😁 Sagade hogona.... Nangu ond seat kano Vijay 🤗 Naan ready Ok atti prant 💺nimdeee This message was deleted Yenu This message was deleted Yako magane anbardu Yarge heledhu 🤪😂👌🏻 Gd night Good morning Gd afternoon 😲😲😲😲 Yako Sumnee, tangi kal yaliyoke Gd night Happy wedding anniversary doddappaji doddamma Happy wedding anniversary doddappa doddamma Happy wedding  anniversary  to both of u Happy wedding anniversary Anna and Sudha akka.. God bless 🙏 Happy wedding anniversary to both of you Happy wedding anniversary to both of you 😊 Usha Happy wedding anniversary dodappa dodamma😍🥳🎊 Gd morning Happy wedding anniversary atthe mava Happy wedding anniversary athe mava Gd night Good morning Good morning all 😲😲😲😲 I don't think any of your sisters  like it 😂 😅😅😅😉😝 First Parent Teacher Meeting after Lockdown Gd night 😁 Yuk Gd night Vv gm LOCKDOWN - BREAKING NEWS Gd night Happy mother's  day to all mothers of our  family Happy mother's day, to all mother's Thank you and happy mother's day to all the lovely mothers in the group ❤️ Thank  you 😀 Gd night Gd morning Good morning Happy birthday Abhi. God bless 🙏 Happy birthday anna Happy birthday 🎉 anna Happy Birthday Abhi Abhi is not in the group 😔 Usha Gd night Gd morning Gd night Gd morning 😅😅 Gd night Happy wedding anniversary ❣️ both of you Happy anniversary Anna atige♥️😍 Happy wedding  anniversary  both of u Happy wedding anniversary, God bless you 💞💞 Happy wedding anniversary to both of you  god bless you Thanks arjuna 😘 Thanks sinchu😘 Thank you once again vijay 🤗 Thank so much again ajay🤗 Thanks latha athe 🙏🏻 Wc attige🥰 🥰🤗 Happy wedding anniversary ✨💫😊😊😊 Thank u🤗 Happy wedding anniversary to both of you 😊 Usha Thank you 🙏🏻 I am not SWEARING but I support my 🇮🇳 Do you agree that you'd always support your country, whether it's right or wrong ? Today the world has become global in transactions of economy and employment Ayoooo ayooooo,,, ramyakaaaa  itaraaa agbidtaaaaa😉😉😉😉🤣🤣🤣🤣🤣 😂😂 🤣🤣🤣 Gd night 😳😳👌👌 🙈 Gd morning Vgm to all Hmm... We understand what you mean 😅😅😅 So it's pretty clear that most of us will not be able to attend your wedding pavan Below 10 years is not allowed And Max is 50....and out family itself is of 30 plus... Hehehehe Our 😅😅😅 Still not sure wt will happen rules are changing so often hope for the best ....n have informed my friends only familes are their so hopefully most of u can make it ......🤗👍🏻 Hmm Gd morning Good  morning Gd night Good night Gd morning Good morning Gd night Gn Gd morning Gd night Gd morning Gd night This message was deleted Gd morning Gd night Wow super doddamma,,, vv  gud morning 🙋😊 ☺☺ Gd night Happiest birthday chandhu🥳♥️ Happy birthday 🎉 chandhu god bless you Thanks 😊 Thank you Thanks Haapiest birthday darling😘😘 keep smiling always🤗 all the very best for your exams and future😍 Thanks Atte 😍 Happy Birthday 🎂🎈 Chandana Happy birthday Chandana.. God bless 🙏 Thanks Thank you grandma Many more happy returns of the day 🤗🥳🎂 Thanks Happy birthday  God bless u Thanks grandma Usha Thanks grandma 😊 Happy birthday Chandana 🎂🥳 Thanks😊 Happy birthday Chandana Thanks grandpa 😊 👌👌 👌👌 Thank you 😊 Thank you 👌👌 Gd night Thanks Happy wedding anniversary akka bavaji Happy wedding anniversary Happy wedding anniversary  Prabhu and Roopa. God bless Usha Happy wedding anniversary to roopa and bhava 🎂🎂🥳🥳🥳 Happy wedding anniversary roopa akka and prabhu bava Happy wedding anniversary Roopa and Prabhu. May God bless you both with many more years of togetherness 🙏😍 Happy wedding anniversary akka bava♥️😍 Thank you Ajay, Teju, pavan, Arjun, sinchu 🤝 Thank you latha Aunty Thank you shekar Chikkappaji Thank you atthe Thank you Indra Aunty Happy wedding  anniversary  akka bhava Thank you Vijay Happy Wedding Anniversary Roopa nd Prabhu Bhava 💐☺️ Thank you Yashu Gd morning Gd night Good morning Good morning all Gd morning Gd night Good night Good morning all Gd morning Gd night Good morning Good morning all Gd morning Gd night Gd morning Nice idea 👌👌 Gd morning Good morning Good morning Gd night Gd morning Good morning Good morning all Gd night Gd morning 😆😆😆🙈 Gd morning Good morning Gd morning Good morning all Vgm Thanks Arjun for sharing 😊👍🏻 😀🥰 👌👌👌👌 👌👌👌👌🏻 👌 Why Brahmins are respected Gd night Gd morning Good morning all Good morning 🌞 everyone 🌞 Gd Night Usha Gm 😊 Gd morning Gd morning Good morning now for you?😉 😅😅 Sry Gd night Good morning 😁 😅😅😅 Good night 😴😘💤 Gd night😍♥️ Gn all Gd morning Good morning to all Good morning all Gd night Good morning all Gd night Good morning all Gd morning Gd night Good morning all Gd morning Gd morning Good morning all Designer corona masks to match the blouses.... Only Bharateeys can be this innovative even in the face of life threatening pandemic An elephant and a dog became pregnant at same time. Three months down the line the dog gave birth to six puppies. Six months later the dog was pregnant again, and nine months on it gave birth to another dozen puppies. The pattern continued Gd morning Happy wedding anniversary akka bava Happy wedding anniversary Sowmya and Balu. God bless you both with many more years of togetherness 🙏 Happy anniversary Sowmya and Balu. God bless Happy anniversary akka bava✨🥳 Happy wedding Anniversary to Akka nd Bhava 🥳 Happy wedding anniversary to akka and bhava 😊💞 Usha Happy anniversary both of you Happy wedding anniversary to both of you Happy wedding  anniversary  akka bhava Look upside down also Original photo Thanks for all your wishes 😍 Gm all Good morning Good morning Good morning all Gm all Good morning Gd morning Good morning all List of chinese app ಅಕಸ್ಮಾತ್ 😅😅 😁 Gd night Good night Good night Gd morning This message was deleted Gd night Gd morning Gd night Gd morning Gd night All the best chandhana fr u r exam stay safe👍✨ Thanks All the very best dear for your exams🤗🤗 relax and do your best😘😘 All the best Chandana Usha All de best Chandana Gd night Gd morning Gd night Good night Good night Gd morning Gd night Gd morning Super👌 💖💖💖 👌👍 👌🏾 👌🏻 Wow.. nice pics😍 Wonderful Soooper missed it Gd night Good night Good night 😴 Good morning Gd morning Gd night Gd morning Good morning all Good morning 😂 Good night 😴 Gd night Gd morning Gd night Gd morning Good morning 😂👌 Gd night Gd morning Gd night Good morning all Gd morning A Woman Sends a Text to Her Husband 😅🤣🤣 😂😂😂 Gd night 😃😃 Gd morning Good morning all 😂😂 Gd night Good morning Gd morning Gd night Happy birthday Lakshmi. God bless 🙏❣️ Happy Born Day Lakshmi Atte 🥳🎂 Gd morning Good morning all Happiest birthday Lakshmi atghe♥️🥳🎊 ಮನಷ್ಯ ಮುಹೂರ್ತ ಇಲ್ಲದೆ ಹುಟ್ಟುತ್ತಾನೆ ಮುಹೂರ್ತ ಇಲ್ಲದೆ ಸಾಯುತ್ತಾನೆ ಆದರೆ ಇಡಿ ಜೀವನ ಶುಭ ಮುಹೂರ್ತದ ಹುಡುಕಾಟದಲ್ಲಿರುತ್ತಾನೆ Happy birthday Lakshmi. God bless Happy birthday 🎉 attige Usha Thank you all Happy Birthday 🎂🎉🎉🎈 lakshmi Many more happy birthday lakshmi Thank you arjun and latha athe 🤣🤣🤣 Happy Birthday Lakshmi 🎂🥳 Hapie Born Day Athge❤️ Thanks praju Thanks Gd night Gd morning Good night Gd night Gd morning 😅😅😅 Gd night Gd morning Gd night Good morning all Gd morning Gd night Gd morning Good morning all Gd night Gd night Good morning all Gd morning Good morning “Daddy, what is an alcoholic?” Good night Gd night CT Good  idea Good night Gd night Good morning all Gd morning Gd night Good morning all Good morning Good morning Gd morning Gd night Good morning Gd night Gd morning Happy Vara Mahalakshmi to all 🙏 Happy varamahalakshmi to all 🙏🏻 😍😍😍😍 Looking very cute Gombe 😍 Thank u🤗🤗 So cute 🥰 🥰🥰🥰 Nice😍😍 Thank you Thank y Great Thanks dad🤗 Super duper gombe So quite and beautiful Very nice gombe Thanks ajji😘😘 Gd night Good morning all 😅😅😆😆 Gd night Good morning all Good morning all Gd morning Gd night Gn sd tc,,,,, all Gn all Good morning Good morning all Gd morning Good night 😴 😅👌 Gm all Happy wedding anniversary to both of you😍😍 keep smiling🤗🤗 Usha Happy wedding  anniversary Happy wedding anniversary to both of you Happy wedding anniversary Gayathri and Bharath. God bless you both with many more years of togetherness 🙏😍 Happy  wedding  anniversary  Anna  atige😄😄 Happy wedding anniversary Gayathri and Bharat. God bless Happy wedding anniversary both of you 🥰 Happy anniversary to you both 💞💐💐💞🎂🥳 Happy anniversary to you both 💐 Hapie aniversary to u both❤️ Happy wedding anniversary Bharath Chikkappaji and Gayatri Aunty 🎉💐💐🎉 Thank you every one🎊🎉🎉 Happy wedding Anniversary chickappa and Chickkamma 💐😍 Happy wedding anniversary both of you Gm all Good morning all Gd morning Beautiful VISA ad Gd night Gm all Happy independence to all 😊 Happy Independence Day to all 🇮🇳 Good morning all Thank you. Happy independence day to all ❤️ Happy Independence to all 💐 Good night 😴😴😴😴 Gd night Good morning all Gm all Good morning 🌞🌄 Good morning all Gd morning Gd night Gm all Good morning all Good morning Gd morning Gd night Gm all Good morning 🌞 everyone 🌞 Good morning all Gd morning Gd night Good morning all Happy birthday Roopa akka🥳😍 Happy birthday Roopa. God bless Happy birthday Roopa🥰🥰🥰 Happy birthday roopanty,, 😍😍🥰🥰God bless u Happy birthday Roopa. God bless 🙏 Happy  birthday  roopa Happy birthday roopa 🎉🎉🎈 Usha Happy birthday Roopa 🎂🎉 Happy Birthday 🎂🎉🎁🎈🎊🥳 roopa akka Hapie Born Day roopa akka stay blessed ❤️ Happy birthday 🎉 akka Thank you sinchu, Ramya, Ajay Uncle, Teju, pavan, Yashu, Arjun, prajwal, Vijay Thank you shekar Chikkappaji and Indra Aunty Thank you Usha Atthe Thank you Prakash Chikkappaji 🤣🤣🤣 This message was deleted Yak nagu Ajay uncle😅 Nimge gotildereduu en idde anty 😉😉 😅😅 Happy birthday roopa god bless you Thank you Latha Aunty Happy gowri Festival to everyone ❤️🎉😎 Good morning and Happy Gowri, Ganesha festival Happy Gowri and Ganesha chaturthi to everyone Gowri Ganesha hubbadha shubhashayagalu..May God bless us all with good health, peace, prosperity and happiness 🙏🙏 Happy Gowri Ganesha festival to all 🙏 🙏🙏👍 🙏🙏🙏🙏 🙏🙏 Ganapati Bappa morya..Mangal murti morya.. Gowri Ganesha hubbadha shubhashayagalu.. wish you all a very happy Gowri Ganesha. May God bless us all with good health, peace, prosperity and happiness 🙏 Gm all, wish you the same doddama ಸರ್ವರಿಗೂ ಗಣೇಶ ಹಬ್ಬದ ಶುಭಾಶಗಳೊಂದಿಗೆ ನಮಸ್ಕಾರ 😎🎉🎉🙏 Gd morning Gd  morning Good morning all Lionel Messi showing off his other skills apart from football Gm all Good morning all Gd morning Gd morning Good morning all Gd night Gd morning 😯👌 Gd night Gm Gd morning Good morning all 😆😆 Gn sd tc,,  all Gd night Good night Gd morning Good morming all Gd morning Good morning 🌞 everyone Good morninh all Gd night Gd morning Wonderful questions to read and answer 👌😅 Gd night Gm all Good morning all Gd morning Gd morning Gudmrng Good morning all Gd morning Mrng❤️ Gd morning 🤩 👌 Angadre iesati yella pass 🤣🤣🤣 Try madu nodona Power illa Nice painting 🎨 Good morning all Good morning 🌞 everyone 🌞 Gd morning Gudmrng Good morning Good morning all Gd morning Gud morning Good morning Mrng❤️ Good morning all Gudmrng Gd morning Happy morning😀 🤣🤣🤣🤣😂😂 Gd night Good morning all Good morning Gd morning Gudmrng 😅🤭🤭 😂😂😂 Good morning all Gm all Gudmrng Good morning all Gd morning Good morning Gd night Gm all Good morning all Gd morning Gudmrng Gd night Gm all Gudmrng Gd morning Good morning Gm all Good morning all Gd night Gn sd tc Gn Good night Good morning all Good morning all Gd morning Gudmrng 😷 wr Safety first, ride next,, 🥰🥰🥰🥰 Sagade anthe Helmet is on its way Hoooooo Readyna, kengeri near call madkokeli, navu join agtivi 😇😇😇 He he he nim annange call maadu..  Naanu avlu ready Huu sari madtini Bega madu 🤣🤣 Yako Sumne Good one. Not applicable to me 😂😂 🤭😂😂 Gd night Good  night  all Gd morning Mrng❤️ Gm morning Gd night Gd morning Good morning all Good morning 🌞 Gudmrng Good morning all Good morning Gd night Good night sweet dreams 😴😴😴 Good morning all ☕ Gd morning Good morning all Gudmrng Good  morning  all Gd night Good night sweet dreams Good morning all Good morning 🌞🌻🌅 Good morning all Gd morning Gudmrng Good morning Gm Gd night A king had 10 wild dogs.🐕🐕🐕🐕🐕🐕🐕🐕🐕🐕 Good morning all 😂😂😂 Gd morning Good morning all Gudmrng Good morning all gm Mrng❤️ 🍁Happy daughter's week Tq dodamma♥️🤩 Thank you 🥰 👍🥰 Thanks Unty 😊 Good morning all Gudmrng Good morning Gd morning Gudmrng Good morning 😂👌👌👌 🤣🤣🤣👌👌 👌👌 Ok, good night Gd night Good night all Good night Good morning Gudmrng Gd morning 🤣🤣🙊🙊 No married person responded Yeshu. Mr Ajay finds it funny (May be another 1/2 years) after that he will also join No response team 🤣🤣🤣🤣 Ur rite 👍👍😂😂 Gd night Good night sweet dreams\""
     },
     "metadata": {},
     "execution_count": 51
    }
   ],
   "source": [
    "\"\"\" here we are extracting the messages which doesnot contains multi media content and urls and make it has list and then joining the text\"\"\"\n",
    "import string\n",
    "text = \" \".join(data_frame_whatsapp_chat_without_null_values[data_frame_whatsapp_chat_without_null_values['messages_without'] == False]['Messages'].apply(lambda x : x.strip(string.punctuation+string.whitespace)).tolist())\n",
    "text"
   ]
  },
  {
   "cell_type": "code",
   "execution_count": 52,
   "metadata": {},
   "outputs": [
    {
     "output_type": "error",
     "ename": "SyntaxError",
     "evalue": "invalid syntax (<ipython-input-52-cc812787cb22>, line 18)",
     "traceback": [
      "\u001b[0;36m  File \u001b[0;32m\"<ipython-input-52-cc812787cb22>\"\u001b[0;36m, line \u001b[0;32m18\u001b[0m\n\u001b[0;31m    plot_cloud(wordcloud) a.\u001b[0m\n\u001b[0m                          ^\u001b[0m\n\u001b[0;31mSyntaxError\u001b[0m\u001b[0;31m:\u001b[0m invalid syntax\n"
     ]
    }
   ],
   "source": [
    "# Import packages\n",
    "import matplotlib.pyplot as plt\n",
    "%matplotlib inline\n",
    "# Define a function to plot word cloud\n",
    "def plot_cloud(wordcloud):\n",
    "    # Set figure size\n",
    "    plt.figure(figsize=(40, 30))\n",
    "    # Display image\n",
    "    plt.imshow(wordcloud) \n",
    "    # No axis details\n",
    "    plt.axis(\"off\");\n",
    "    \n",
    "# Import package\n",
    "from wordcloud import WordCloud, STOPWORDS\n",
    "# Generate word cloud\n",
    "wordcloud = WordCloud(width = 3000, height = 2000, random_state=1, background_color='black', colormap='Pastel1', collocations=False, stopwords = STOPWORDS).generate(text)\n",
    "# Plot\n",
    "plot_cloud(wordcloud) a.   \n",
    "   "
   ]
  },
  {
   "cell_type": "markdown",
   "metadata": {},
   "source": [
    "# timespan"
   ]
  },
  {
   "cell_type": "code",
   "execution_count": 53,
   "metadata": {},
   "outputs": [
    {
     "output_type": "execute_result",
     "data": {
      "text/plain": "(Timestamp('2020-03-10 01:18:00'),)"
     },
     "metadata": {},
     "execution_count": 53
    }
   ],
   "source": [
    "d =  data_frame_whatsapp_chat_without_null_values['datetimes'] \n",
    "starting_date = d.min()\n",
    "last_date = d.max()\n",
    "starting_date,"
   ]
  },
  {
   "cell_type": "code",
   "execution_count": 54,
   "metadata": {},
   "outputs": [
    {
     "output_type": "execute_result",
     "data": {
      "text/plain": "Timestamp('2020-09-25 10:31:00')"
     },
     "metadata": {},
     "execution_count": 54
    }
   ],
   "source": [
    "last_date"
   ]
  },
  {
   "cell_type": "code",
   "execution_count": 55,
   "metadata": {},
   "outputs": [],
   "source": [
    "data_frame_whatsapp_chat_without_null_values['year'] = pd.DatetimeIndex(data_frame_whatsapp_chat_without_null_values['Date']).year\n",
    "data_frame_whatsapp_chat_without_null_values['month'] = pd.DatetimeIndex(data_frame_whatsapp_chat_without_null_values['Date']).month"
   ]
  },
  {
   "cell_type": "code",
   "execution_count": 56,
   "metadata": {},
   "outputs": [
    {
     "output_type": "error",
     "ename": "KeyError",
     "evalue": "'Month'",
     "traceback": [
      "\u001b[0;31m---------------------------------------------------------------------------\u001b[0m",
      "\u001b[0;31mKeyError\u001b[0m                                  Traceback (most recent call last)",
      "\u001b[0;32m~/miniconda3/envs/py38/lib/python3.8/site-packages/pandas/core/indexes/base.py\u001b[0m in \u001b[0;36mget_loc\u001b[0;34m(self, key, method, tolerance)\u001b[0m\n\u001b[1;32m   2890\u001b[0m             \u001b[0;32mtry\u001b[0m\u001b[0;34m:\u001b[0m\u001b[0;34m\u001b[0m\u001b[0;34m\u001b[0m\u001b[0m\n\u001b[0;32m-> 2891\u001b[0;31m                 \u001b[0;32mreturn\u001b[0m \u001b[0mself\u001b[0m\u001b[0;34m.\u001b[0m\u001b[0m_engine\u001b[0m\u001b[0;34m.\u001b[0m\u001b[0mget_loc\u001b[0m\u001b[0;34m(\u001b[0m\u001b[0mcasted_key\u001b[0m\u001b[0;34m)\u001b[0m\u001b[0;34m\u001b[0m\u001b[0;34m\u001b[0m\u001b[0m\n\u001b[0m\u001b[1;32m   2892\u001b[0m             \u001b[0;32mexcept\u001b[0m \u001b[0mKeyError\u001b[0m \u001b[0;32mas\u001b[0m \u001b[0merr\u001b[0m\u001b[0;34m:\u001b[0m\u001b[0;34m\u001b[0m\u001b[0;34m\u001b[0m\u001b[0m\n",
      "\u001b[0;32mpandas/_libs/index.pyx\u001b[0m in \u001b[0;36mpandas._libs.index.IndexEngine.get_loc\u001b[0;34m()\u001b[0m\n",
      "\u001b[0;32mpandas/_libs/index.pyx\u001b[0m in \u001b[0;36mpandas._libs.index.IndexEngine.get_loc\u001b[0;34m()\u001b[0m\n",
      "\u001b[0;32mpandas/_libs/hashtable_class_helper.pxi\u001b[0m in \u001b[0;36mpandas._libs.hashtable.PyObjectHashTable.get_item\u001b[0;34m()\u001b[0m\n",
      "\u001b[0;32mpandas/_libs/hashtable_class_helper.pxi\u001b[0m in \u001b[0;36mpandas._libs.hashtable.PyObjectHashTable.get_item\u001b[0;34m()\u001b[0m\n",
      "\u001b[0;31mKeyError\u001b[0m: 'Month'",
      "\nThe above exception was the direct cause of the following exception:\n",
      "\u001b[0;31mKeyError\u001b[0m                                  Traceback (most recent call last)",
      "\u001b[0;32m<ipython-input-56-6b2f40bd67b7>\u001b[0m in \u001b[0;36m<module>\u001b[0;34m\u001b[0m\n\u001b[0;32m----> 1\u001b[0;31m \u001b[0mmoth_year\u001b[0m \u001b[0;34m=\u001b[0m \u001b[0mdata_frame_whatsapp_chat_without_null_values\u001b[0m\u001b[0;34m[\u001b[0m\u001b[0;34m'Month'\u001b[0m\u001b[0;34m]\u001b[0m\u001b[0;34m.\u001b[0m\u001b[0mastype\u001b[0m\u001b[0;34m(\u001b[0m\u001b[0mstr\u001b[0m\u001b[0;34m)\u001b[0m \u001b[0;34m+\u001b[0m \u001b[0;34m\"-\"\u001b[0m \u001b[0;34m+\u001b[0m \u001b[0mdata_frame_whatsapp_chat_without_null_values\u001b[0m\u001b[0;34m[\u001b[0m\u001b[0;34m'year'\u001b[0m\u001b[0;34m]\u001b[0m\u001b[0;34m.\u001b[0m\u001b[0mastype\u001b[0m\u001b[0;34m(\u001b[0m\u001b[0mstr\u001b[0m\u001b[0;34m)\u001b[0m\u001b[0;34m\u001b[0m\u001b[0;34m\u001b[0m\u001b[0m\n\u001b[0m",
      "\u001b[0;32m~/miniconda3/envs/py38/lib/python3.8/site-packages/pandas/core/frame.py\u001b[0m in \u001b[0;36m__getitem__\u001b[0;34m(self, key)\u001b[0m\n\u001b[1;32m   2900\u001b[0m             \u001b[0;32mif\u001b[0m \u001b[0mself\u001b[0m\u001b[0;34m.\u001b[0m\u001b[0mcolumns\u001b[0m\u001b[0;34m.\u001b[0m\u001b[0mnlevels\u001b[0m \u001b[0;34m>\u001b[0m \u001b[0;36m1\u001b[0m\u001b[0;34m:\u001b[0m\u001b[0;34m\u001b[0m\u001b[0;34m\u001b[0m\u001b[0m\n\u001b[1;32m   2901\u001b[0m                 \u001b[0;32mreturn\u001b[0m \u001b[0mself\u001b[0m\u001b[0;34m.\u001b[0m\u001b[0m_getitem_multilevel\u001b[0m\u001b[0;34m(\u001b[0m\u001b[0mkey\u001b[0m\u001b[0;34m)\u001b[0m\u001b[0;34m\u001b[0m\u001b[0;34m\u001b[0m\u001b[0m\n\u001b[0;32m-> 2902\u001b[0;31m             \u001b[0mindexer\u001b[0m \u001b[0;34m=\u001b[0m \u001b[0mself\u001b[0m\u001b[0;34m.\u001b[0m\u001b[0mcolumns\u001b[0m\u001b[0;34m.\u001b[0m\u001b[0mget_loc\u001b[0m\u001b[0;34m(\u001b[0m\u001b[0mkey\u001b[0m\u001b[0;34m)\u001b[0m\u001b[0;34m\u001b[0m\u001b[0;34m\u001b[0m\u001b[0m\n\u001b[0m\u001b[1;32m   2903\u001b[0m             \u001b[0;32mif\u001b[0m \u001b[0mis_integer\u001b[0m\u001b[0;34m(\u001b[0m\u001b[0mindexer\u001b[0m\u001b[0;34m)\u001b[0m\u001b[0;34m:\u001b[0m\u001b[0;34m\u001b[0m\u001b[0;34m\u001b[0m\u001b[0m\n\u001b[1;32m   2904\u001b[0m                 \u001b[0mindexer\u001b[0m \u001b[0;34m=\u001b[0m \u001b[0;34m[\u001b[0m\u001b[0mindexer\u001b[0m\u001b[0;34m]\u001b[0m\u001b[0;34m\u001b[0m\u001b[0;34m\u001b[0m\u001b[0m\n",
      "\u001b[0;32m~/miniconda3/envs/py38/lib/python3.8/site-packages/pandas/core/indexes/base.py\u001b[0m in \u001b[0;36mget_loc\u001b[0;34m(self, key, method, tolerance)\u001b[0m\n\u001b[1;32m   2891\u001b[0m                 \u001b[0;32mreturn\u001b[0m \u001b[0mself\u001b[0m\u001b[0;34m.\u001b[0m\u001b[0m_engine\u001b[0m\u001b[0;34m.\u001b[0m\u001b[0mget_loc\u001b[0m\u001b[0;34m(\u001b[0m\u001b[0mcasted_key\u001b[0m\u001b[0;34m)\u001b[0m\u001b[0;34m\u001b[0m\u001b[0;34m\u001b[0m\u001b[0m\n\u001b[1;32m   2892\u001b[0m             \u001b[0;32mexcept\u001b[0m \u001b[0mKeyError\u001b[0m \u001b[0;32mas\u001b[0m \u001b[0merr\u001b[0m\u001b[0;34m:\u001b[0m\u001b[0;34m\u001b[0m\u001b[0;34m\u001b[0m\u001b[0m\n\u001b[0;32m-> 2893\u001b[0;31m                 \u001b[0;32mraise\u001b[0m \u001b[0mKeyError\u001b[0m\u001b[0;34m(\u001b[0m\u001b[0mkey\u001b[0m\u001b[0;34m)\u001b[0m \u001b[0;32mfrom\u001b[0m \u001b[0merr\u001b[0m\u001b[0;34m\u001b[0m\u001b[0;34m\u001b[0m\u001b[0m\n\u001b[0m\u001b[1;32m   2894\u001b[0m \u001b[0;34m\u001b[0m\u001b[0m\n\u001b[1;32m   2895\u001b[0m         \u001b[0;32mif\u001b[0m \u001b[0mtolerance\u001b[0m \u001b[0;32mis\u001b[0m \u001b[0;32mnot\u001b[0m \u001b[0;32mNone\u001b[0m\u001b[0;34m:\u001b[0m\u001b[0;34m\u001b[0m\u001b[0;34m\u001b[0m\u001b[0m\n",
      "\u001b[0;31mKeyError\u001b[0m: 'Month'"
     ]
    }
   ],
   "source": [
    "moth_year = data_frame_whatsapp_chat_without_null_values['Month'].astype(str) + \"-\" + data_frame_whatsapp_chat_without_null_values['year'].astype(str)"
   ]
  },
  {
   "cell_type": "code",
   "execution_count": 57,
   "metadata": {},
   "outputs": [
    {
     "output_type": "error",
     "ename": "NameError",
     "evalue": "name 'moth_year' is not defined",
     "traceback": [
      "\u001b[0;31m---------------------------------------------------------------------------\u001b[0m",
      "\u001b[0;31mNameError\u001b[0m                                 Traceback (most recent call last)",
      "\u001b[0;32m<ipython-input-57-8b192d581b67>\u001b[0m in \u001b[0;36m<module>\u001b[0;34m\u001b[0m\n\u001b[0;32m----> 1\u001b[0;31m \u001b[0mdata_frame_whatsapp_chat_without_null_values\u001b[0m\u001b[0;34m[\u001b[0m\u001b[0;34m'Month_year'\u001b[0m\u001b[0;34m]\u001b[0m \u001b[0;34m=\u001b[0m \u001b[0mmoth_year\u001b[0m\u001b[0;34m\u001b[0m\u001b[0;34m\u001b[0m\u001b[0m\n\u001b[0m",
      "\u001b[0;31mNameError\u001b[0m: name 'moth_year' is not defined"
     ]
    }
   ],
   "source": [
    "data_frame_whatsapp_chat_without_null_values['Month_year'] = moth_year"
   ]
  },
  {
   "cell_type": "code",
   "execution_count": 86,
   "metadata": {},
   "outputs": [
    {
     "output_type": "execute_result",
     "data": {
      "text/plain": "          Date   Time      Name_or_number  \\\n2     19/05/20  14:13           Srinivasa   \n3     20/05/20  15:17           etheshama   \n4     20/05/20  15:17           etheshama   \n5     20/05/20  15:17           etheshama   \n6     20/05/20  15:17           etheshama   \n...        ...    ...                 ...   \n1306  10/09/20  15:14              Sameer   \n1307  10/09/20  15:20         Mohan Chari   \n1308  10/09/20  19:17           Lover Boy   \n1309  10/09/20  19:18        Beeresh Mech   \n1310  10/09/20  19:19  Hemanthreddy Stjit   \n\n                                        Messages           datetimes  \\\n2                            : <Media omitted>\\n 2020-05-19 14:13:00   \n3                            : <Media omitted>\\n 2020-05-20 15:17:00   \n4                            : <Media omitted>\\n 2020-05-20 15:17:00   \n5                            : <Media omitted>\\n 2020-05-20 15:17:00   \n6                            : <Media omitted>\\n 2020-05-20 15:17:00   \n...                                          ...                 ...   \n1306                : This message was deleted\\n 2020-09-10 15:14:00   \n1307                         : <Media omitted>\\n 2020-09-10 15:20:00   \n1308                : This message was deleted\\n 2020-09-10 19:17:00   \n1309  : Nimmelaraa atmakke Shanti sigliii.....\\n 2020-09-10 19:18:00   \n1310                         : <Media omitted>\\n 2020-09-10 19:19:00   \n\n           Date_Time emojies  number_of_emojies  messages_without  year  \\\n2     19/05/20 14:13      []                  0              True  2020   \n3     20/05/20 15:17      []                  0              True  2020   \n4     20/05/20 15:17      []                  0              True  2020   \n5     20/05/20 15:17      []                  0              True  2020   \n6     20/05/20 15:17      []                  0              True  2020   \n...              ...     ...                ...               ...   ...   \n1306  10/09/20 15:14      []                  0             False  2020   \n1307  10/09/20 15:20      []                  0              True  2020   \n1308  10/09/20 19:17      []                  0             False  2020   \n1309  10/09/20 19:18      []                  0             False  2020   \n1310  10/09/20 19:19      []                  0              True  2020   \n\n      month Moth_year Month_year  \n2         5    5-2020     5-2020  \n3         5    5-2020     5-2020  \n4         5    5-2020     5-2020  \n5         5    5-2020     5-2020  \n6         5    5-2020     5-2020  \n...     ...       ...        ...  \n1306     10   10-2020    10-2020  \n1307     10   10-2020    10-2020  \n1308     10   10-2020    10-2020  \n1309     10   10-2020    10-2020  \n1310     10   10-2020    10-2020  \n\n[1090 rows x 13 columns]",
      "text/html": "<div>\n<style scoped>\n    .dataframe tbody tr th:only-of-type {\n        vertical-align: middle;\n    }\n\n    .dataframe tbody tr th {\n        vertical-align: top;\n    }\n\n    .dataframe thead th {\n        text-align: right;\n    }\n</style>\n<table border=\"1\" class=\"dataframe\">\n  <thead>\n    <tr style=\"text-align: right;\">\n      <th></th>\n      <th>Date</th>\n      <th>Time</th>\n      <th>Name_or_number</th>\n      <th>Messages</th>\n      <th>datetimes</th>\n      <th>Date_Time</th>\n      <th>emojies</th>\n      <th>number_of_emojies</th>\n      <th>messages_without</th>\n      <th>year</th>\n      <th>month</th>\n      <th>Moth_year</th>\n      <th>Month_year</th>\n    </tr>\n  </thead>\n  <tbody>\n    <tr>\n      <th>2</th>\n      <td>19/05/20</td>\n      <td>14:13</td>\n      <td>Srinivasa</td>\n      <td>: &lt;Media omitted&gt;\\n</td>\n      <td>2020-05-19 14:13:00</td>\n      <td>19/05/20 14:13</td>\n      <td>[]</td>\n      <td>0</td>\n      <td>True</td>\n      <td>2020</td>\n      <td>5</td>\n      <td>5-2020</td>\n      <td>5-2020</td>\n    </tr>\n    <tr>\n      <th>3</th>\n      <td>20/05/20</td>\n      <td>15:17</td>\n      <td>etheshama</td>\n      <td>: &lt;Media omitted&gt;\\n</td>\n      <td>2020-05-20 15:17:00</td>\n      <td>20/05/20 15:17</td>\n      <td>[]</td>\n      <td>0</td>\n      <td>True</td>\n      <td>2020</td>\n      <td>5</td>\n      <td>5-2020</td>\n      <td>5-2020</td>\n    </tr>\n    <tr>\n      <th>4</th>\n      <td>20/05/20</td>\n      <td>15:17</td>\n      <td>etheshama</td>\n      <td>: &lt;Media omitted&gt;\\n</td>\n      <td>2020-05-20 15:17:00</td>\n      <td>20/05/20 15:17</td>\n      <td>[]</td>\n      <td>0</td>\n      <td>True</td>\n      <td>2020</td>\n      <td>5</td>\n      <td>5-2020</td>\n      <td>5-2020</td>\n    </tr>\n    <tr>\n      <th>5</th>\n      <td>20/05/20</td>\n      <td>15:17</td>\n      <td>etheshama</td>\n      <td>: &lt;Media omitted&gt;\\n</td>\n      <td>2020-05-20 15:17:00</td>\n      <td>20/05/20 15:17</td>\n      <td>[]</td>\n      <td>0</td>\n      <td>True</td>\n      <td>2020</td>\n      <td>5</td>\n      <td>5-2020</td>\n      <td>5-2020</td>\n    </tr>\n    <tr>\n      <th>6</th>\n      <td>20/05/20</td>\n      <td>15:17</td>\n      <td>etheshama</td>\n      <td>: &lt;Media omitted&gt;\\n</td>\n      <td>2020-05-20 15:17:00</td>\n      <td>20/05/20 15:17</td>\n      <td>[]</td>\n      <td>0</td>\n      <td>True</td>\n      <td>2020</td>\n      <td>5</td>\n      <td>5-2020</td>\n      <td>5-2020</td>\n    </tr>\n    <tr>\n      <th>...</th>\n      <td>...</td>\n      <td>...</td>\n      <td>...</td>\n      <td>...</td>\n      <td>...</td>\n      <td>...</td>\n      <td>...</td>\n      <td>...</td>\n      <td>...</td>\n      <td>...</td>\n      <td>...</td>\n      <td>...</td>\n      <td>...</td>\n    </tr>\n    <tr>\n      <th>1306</th>\n      <td>10/09/20</td>\n      <td>15:14</td>\n      <td>Sameer</td>\n      <td>: This message was deleted\\n</td>\n      <td>2020-09-10 15:14:00</td>\n      <td>10/09/20 15:14</td>\n      <td>[]</td>\n      <td>0</td>\n      <td>False</td>\n      <td>2020</td>\n      <td>10</td>\n      <td>10-2020</td>\n      <td>10-2020</td>\n    </tr>\n    <tr>\n      <th>1307</th>\n      <td>10/09/20</td>\n      <td>15:20</td>\n      <td>Mohan Chari</td>\n      <td>: &lt;Media omitted&gt;\\n</td>\n      <td>2020-09-10 15:20:00</td>\n      <td>10/09/20 15:20</td>\n      <td>[]</td>\n      <td>0</td>\n      <td>True</td>\n      <td>2020</td>\n      <td>10</td>\n      <td>10-2020</td>\n      <td>10-2020</td>\n    </tr>\n    <tr>\n      <th>1308</th>\n      <td>10/09/20</td>\n      <td>19:17</td>\n      <td>Lover Boy</td>\n      <td>: This message was deleted\\n</td>\n      <td>2020-09-10 19:17:00</td>\n      <td>10/09/20 19:17</td>\n      <td>[]</td>\n      <td>0</td>\n      <td>False</td>\n      <td>2020</td>\n      <td>10</td>\n      <td>10-2020</td>\n      <td>10-2020</td>\n    </tr>\n    <tr>\n      <th>1309</th>\n      <td>10/09/20</td>\n      <td>19:18</td>\n      <td>Beeresh Mech</td>\n      <td>: Nimmelaraa atmakke Shanti sigliii.....\\n</td>\n      <td>2020-09-10 19:18:00</td>\n      <td>10/09/20 19:18</td>\n      <td>[]</td>\n      <td>0</td>\n      <td>False</td>\n      <td>2020</td>\n      <td>10</td>\n      <td>10-2020</td>\n      <td>10-2020</td>\n    </tr>\n    <tr>\n      <th>1310</th>\n      <td>10/09/20</td>\n      <td>19:19</td>\n      <td>Hemanthreddy Stjit</td>\n      <td>: &lt;Media omitted&gt;\\n</td>\n      <td>2020-09-10 19:19:00</td>\n      <td>10/09/20 19:19</td>\n      <td>[]</td>\n      <td>0</td>\n      <td>True</td>\n      <td>2020</td>\n      <td>10</td>\n      <td>10-2020</td>\n      <td>10-2020</td>\n    </tr>\n  </tbody>\n</table>\n<p>1090 rows × 13 columns</p>\n</div>"
     },
     "metadata": {},
     "execution_count": 86
    }
   ],
   "source": [
    "data_frame_whatsapp_chat_without_null_values\n"
   ]
  },
  {
   "cell_type": "code",
   "execution_count": 101,
   "metadata": {},
   "outputs": [],
   "source": [
    "data_frame_whatsapp_chat_without_null_values['Month'] =  data_frame_whatsapp_chat_without_null_values[\"datetimes\"].apply(lambda x: x.strftime(\"%b\"))\n"
   ]
  },
  {
   "cell_type": "code",
   "execution_count": 93,
   "metadata": {},
   "outputs": [],
   "source": [
    "Month_year = data_frame_whatsapp_chat_without_null_values['Month'].astype(str) + \"-\" + data_frame_whatsapp_chat_without_null_values['year'].astype(str)"
   ]
  },
  {
   "cell_type": "code",
   "execution_count": 94,
   "metadata": {},
   "outputs": [],
   "source": [
    "data_frame_whatsapp_chat_without_null_values['Month_year']"
   ]
  },
  {
   "cell_type": "code",
   "execution_count": 95,
   "metadata": {},
   "outputs": [
    {
     "output_type": "execute_result",
     "data": {
      "text/plain": "          Date   Time      Name_or_number  \\\n2     19/05/20  14:13           Srinivasa   \n3     20/05/20  15:17           etheshama   \n4     20/05/20  15:17           etheshama   \n5     20/05/20  15:17           etheshama   \n6     20/05/20  15:17           etheshama   \n...        ...    ...                 ...   \n1306  10/09/20  15:14              Sameer   \n1307  10/09/20  15:20         Mohan Chari   \n1308  10/09/20  19:17           Lover Boy   \n1309  10/09/20  19:18        Beeresh Mech   \n1310  10/09/20  19:19  Hemanthreddy Stjit   \n\n                                        Messages           datetimes  \\\n2                            : <Media omitted>\\n 2020-05-19 14:13:00   \n3                            : <Media omitted>\\n 2020-05-20 15:17:00   \n4                            : <Media omitted>\\n 2020-05-20 15:17:00   \n5                            : <Media omitted>\\n 2020-05-20 15:17:00   \n6                            : <Media omitted>\\n 2020-05-20 15:17:00   \n...                                          ...                 ...   \n1306                : This message was deleted\\n 2020-09-10 15:14:00   \n1307                         : <Media omitted>\\n 2020-09-10 15:20:00   \n1308                : This message was deleted\\n 2020-09-10 19:17:00   \n1309  : Nimmelaraa atmakke Shanti sigliii.....\\n 2020-09-10 19:18:00   \n1310                         : <Media omitted>\\n 2020-09-10 19:19:00   \n\n           Date_Time emojies  number_of_emojies  messages_without  year  \\\n2     19/05/20 14:13      []                  0              True  2020   \n3     20/05/20 15:17      []                  0              True  2020   \n4     20/05/20 15:17      []                  0              True  2020   \n5     20/05/20 15:17      []                  0              True  2020   \n6     20/05/20 15:17      []                  0              True  2020   \n...              ...     ...                ...               ...   ...   \n1306  10/09/20 15:14      []                  0             False  2020   \n1307  10/09/20 15:20      []                  0              True  2020   \n1308  10/09/20 19:17      []                  0             False  2020   \n1309  10/09/20 19:18      []                  0             False  2020   \n1310  10/09/20 19:19      []                  0              True  2020   \n\n      month Moth_year Month_year Month  \n2         5    5-2020   May-2020   May  \n3         5    5-2020   May-2020   May  \n4         5    5-2020   May-2020   May  \n5         5    5-2020   May-2020   May  \n6         5    5-2020   May-2020   May  \n...     ...       ...        ...   ...  \n1306     10   10-2020   Sep-2020   Sep  \n1307     10   10-2020   Sep-2020   Sep  \n1308     10   10-2020   Sep-2020   Sep  \n1309     10   10-2020   Sep-2020   Sep  \n1310     10   10-2020   Sep-2020   Sep  \n\n[1090 rows x 14 columns]",
      "text/html": "<div>\n<style scoped>\n    .dataframe tbody tr th:only-of-type {\n        vertical-align: middle;\n    }\n\n    .dataframe tbody tr th {\n        vertical-align: top;\n    }\n\n    .dataframe thead th {\n        text-align: right;\n    }\n</style>\n<table border=\"1\" class=\"dataframe\">\n  <thead>\n    <tr style=\"text-align: right;\">\n      <th></th>\n      <th>Date</th>\n      <th>Time</th>\n      <th>Name_or_number</th>\n      <th>Messages</th>\n      <th>datetimes</th>\n      <th>Date_Time</th>\n      <th>emojies</th>\n      <th>number_of_emojies</th>\n      <th>messages_without</th>\n      <th>year</th>\n      <th>month</th>\n      <th>Moth_year</th>\n      <th>Month_year</th>\n      <th>Month</th>\n    </tr>\n  </thead>\n  <tbody>\n    <tr>\n      <th>2</th>\n      <td>19/05/20</td>\n      <td>14:13</td>\n      <td>Srinivasa</td>\n      <td>: &lt;Media omitted&gt;\\n</td>\n      <td>2020-05-19 14:13:00</td>\n      <td>19/05/20 14:13</td>\n      <td>[]</td>\n      <td>0</td>\n      <td>True</td>\n      <td>2020</td>\n      <td>5</td>\n      <td>5-2020</td>\n      <td>May-2020</td>\n      <td>May</td>\n    </tr>\n    <tr>\n      <th>3</th>\n      <td>20/05/20</td>\n      <td>15:17</td>\n      <td>etheshama</td>\n      <td>: &lt;Media omitted&gt;\\n</td>\n      <td>2020-05-20 15:17:00</td>\n      <td>20/05/20 15:17</td>\n      <td>[]</td>\n      <td>0</td>\n      <td>True</td>\n      <td>2020</td>\n      <td>5</td>\n      <td>5-2020</td>\n      <td>May-2020</td>\n      <td>May</td>\n    </tr>\n    <tr>\n      <th>4</th>\n      <td>20/05/20</td>\n      <td>15:17</td>\n      <td>etheshama</td>\n      <td>: &lt;Media omitted&gt;\\n</td>\n      <td>2020-05-20 15:17:00</td>\n      <td>20/05/20 15:17</td>\n      <td>[]</td>\n      <td>0</td>\n      <td>True</td>\n      <td>2020</td>\n      <td>5</td>\n      <td>5-2020</td>\n      <td>May-2020</td>\n      <td>May</td>\n    </tr>\n    <tr>\n      <th>5</th>\n      <td>20/05/20</td>\n      <td>15:17</td>\n      <td>etheshama</td>\n      <td>: &lt;Media omitted&gt;\\n</td>\n      <td>2020-05-20 15:17:00</td>\n      <td>20/05/20 15:17</td>\n      <td>[]</td>\n      <td>0</td>\n      <td>True</td>\n      <td>2020</td>\n      <td>5</td>\n      <td>5-2020</td>\n      <td>May-2020</td>\n      <td>May</td>\n    </tr>\n    <tr>\n      <th>6</th>\n      <td>20/05/20</td>\n      <td>15:17</td>\n      <td>etheshama</td>\n      <td>: &lt;Media omitted&gt;\\n</td>\n      <td>2020-05-20 15:17:00</td>\n      <td>20/05/20 15:17</td>\n      <td>[]</td>\n      <td>0</td>\n      <td>True</td>\n      <td>2020</td>\n      <td>5</td>\n      <td>5-2020</td>\n      <td>May-2020</td>\n      <td>May</td>\n    </tr>\n    <tr>\n      <th>...</th>\n      <td>...</td>\n      <td>...</td>\n      <td>...</td>\n      <td>...</td>\n      <td>...</td>\n      <td>...</td>\n      <td>...</td>\n      <td>...</td>\n      <td>...</td>\n      <td>...</td>\n      <td>...</td>\n      <td>...</td>\n      <td>...</td>\n      <td>...</td>\n    </tr>\n    <tr>\n      <th>1306</th>\n      <td>10/09/20</td>\n      <td>15:14</td>\n      <td>Sameer</td>\n      <td>: This message was deleted\\n</td>\n      <td>2020-09-10 15:14:00</td>\n      <td>10/09/20 15:14</td>\n      <td>[]</td>\n      <td>0</td>\n      <td>False</td>\n      <td>2020</td>\n      <td>10</td>\n      <td>10-2020</td>\n      <td>Sep-2020</td>\n      <td>Sep</td>\n    </tr>\n    <tr>\n      <th>1307</th>\n      <td>10/09/20</td>\n      <td>15:20</td>\n      <td>Mohan Chari</td>\n      <td>: &lt;Media omitted&gt;\\n</td>\n      <td>2020-09-10 15:20:00</td>\n      <td>10/09/20 15:20</td>\n      <td>[]</td>\n      <td>0</td>\n      <td>True</td>\n      <td>2020</td>\n      <td>10</td>\n      <td>10-2020</td>\n      <td>Sep-2020</td>\n      <td>Sep</td>\n    </tr>\n    <tr>\n      <th>1308</th>\n      <td>10/09/20</td>\n      <td>19:17</td>\n      <td>Lover Boy</td>\n      <td>: This message was deleted\\n</td>\n      <td>2020-09-10 19:17:00</td>\n      <td>10/09/20 19:17</td>\n      <td>[]</td>\n      <td>0</td>\n      <td>False</td>\n      <td>2020</td>\n      <td>10</td>\n      <td>10-2020</td>\n      <td>Sep-2020</td>\n      <td>Sep</td>\n    </tr>\n    <tr>\n      <th>1309</th>\n      <td>10/09/20</td>\n      <td>19:18</td>\n      <td>Beeresh Mech</td>\n      <td>: Nimmelaraa atmakke Shanti sigliii.....\\n</td>\n      <td>2020-09-10 19:18:00</td>\n      <td>10/09/20 19:18</td>\n      <td>[]</td>\n      <td>0</td>\n      <td>False</td>\n      <td>2020</td>\n      <td>10</td>\n      <td>10-2020</td>\n      <td>Sep-2020</td>\n      <td>Sep</td>\n    </tr>\n    <tr>\n      <th>1310</th>\n      <td>10/09/20</td>\n      <td>19:19</td>\n      <td>Hemanthreddy Stjit</td>\n      <td>: &lt;Media omitted&gt;\\n</td>\n      <td>2020-09-10 19:19:00</td>\n      <td>10/09/20 19:19</td>\n      <td>[]</td>\n      <td>0</td>\n      <td>True</td>\n      <td>2020</td>\n      <td>10</td>\n      <td>10-2020</td>\n      <td>Sep-2020</td>\n      <td>Sep</td>\n    </tr>\n  </tbody>\n</table>\n<p>1090 rows × 14 columns</p>\n</div>"
     },
     "metadata": {},
     "execution_count": 95
    }
   ],
   "source": [
    "data_frame_whatsapp_chat_without_null_values"
   ]
  },
  {
   "cell_type": "code",
   "execution_count": 123,
   "metadata": {},
   "outputs": [
    {
     "output_type": "execute_result",
     "data": {
      "text/plain": "array([553, 169, 107, 248,  13])"
     },
     "metadata": {},
     "execution_count": 123
    }
   ],
   "source": [
    "(data_frame_whatsapp_chat_without_null_values.groupby([\"Month_year\"])[\"Messages\"].count()).values\n",
    "\n"
   ]
  },
  {
   "cell_type": "code",
   "execution_count": 124,
   "metadata": {},
   "outputs": [
    {
     "output_type": "display_data",
     "data": {
      "text/plain": "<Figure size 432x288 with 1 Axes>",
      "image/svg+xml": "<?xml version=\"1.0\" encoding=\"utf-8\" standalone=\"no\"?>\n<!DOCTYPE svg PUBLIC \"-//W3C//DTD SVG 1.1//EN\"\n  \"http://www.w3.org/Graphics/SVG/1.1/DTD/svg11.dtd\">\n<!-- Created with matplotlib (https://matplotlib.org/) -->\n<svg height=\"277.314375pt\" version=\"1.1\" viewBox=\"0 0 397.701349 277.314375\" width=\"397.701349pt\" xmlns=\"http://www.w3.org/2000/svg\" xmlns:xlink=\"http://www.w3.org/1999/xlink\">\n <metadata>\n  <rdf:RDF xmlns:cc=\"http://creativecommons.org/ns#\" xmlns:dc=\"http://purl.org/dc/elements/1.1/\" xmlns:rdf=\"http://www.w3.org/1999/02/22-rdf-syntax-ns#\">\n   <cc:Work>\n    <dc:type rdf:resource=\"http://purl.org/dc/dcmitype/StillImage\"/>\n    <dc:date>2020-09-27T11:39:47.465483</dc:date>\n    <dc:format>image/svg+xml</dc:format>\n    <dc:creator>\n     <cc:Agent>\n      <dc:title>Matplotlib v3.3.2, https://matplotlib.org/</dc:title>\n     </cc:Agent>\n    </dc:creator>\n   </cc:Work>\n  </rdf:RDF>\n </metadata>\n <defs>\n  <style type=\"text/css\">*{stroke-linecap:butt;stroke-linejoin:round;}</style>\n </defs>\n <g id=\"figure_1\">\n  <g id=\"patch_1\">\n   <path d=\"M 0 277.314375 \nL 397.701349 277.314375 \nL 397.701349 0 \nL 0 0 \nz\n\" style=\"fill:none;\"/>\n  </g>\n  <g id=\"axes_1\">\n   <g id=\"patch_2\">\n    <path d=\"M 46.965625 239.758125 \nL 381.765625 239.758125 \nL 381.765625 22.318125 \nL 46.965625 22.318125 \nz\n\" style=\"fill:#ffffff;\"/>\n   </g>\n   <g id=\"matplotlib.axis_1\">\n    <g id=\"xtick_1\">\n     <g id=\"line2d_1\">\n      <defs>\n       <path d=\"M 0 0 \nL 0 3.5 \n\" id=\"m9881d8d1e6\" style=\"stroke:#000000;stroke-width:0.8;\"/>\n      </defs>\n      <g>\n       <use style=\"stroke:#000000;stroke-width:0.8;\" x=\"62.183807\" xlink:href=\"#m9881d8d1e6\" y=\"239.758125\"/>\n      </g>\n     </g>\n     <g id=\"text_1\">\n      <!-- Aug-2020 -->\n      <g transform=\"translate(37.891619 254.356562)scale(0.1 -0.1)\">\n       <defs>\n        <path d=\"M 34.1875 63.1875 \nL 20.796875 26.90625 \nL 47.609375 26.90625 \nz\nM 28.609375 72.90625 \nL 39.796875 72.90625 \nL 67.578125 0 \nL 57.328125 0 \nL 50.6875 18.703125 \nL 17.828125 18.703125 \nL 11.1875 0 \nL 0.78125 0 \nz\n\" id=\"DejaVuSans-65\"/>\n        <path d=\"M 8.5 21.578125 \nL 8.5 54.6875 \nL 17.484375 54.6875 \nL 17.484375 21.921875 \nQ 17.484375 14.15625 20.5 10.265625 \nQ 23.53125 6.390625 29.59375 6.390625 \nQ 36.859375 6.390625 41.078125 11.03125 \nQ 45.3125 15.671875 45.3125 23.6875 \nL 45.3125 54.6875 \nL 54.296875 54.6875 \nL 54.296875 0 \nL 45.3125 0 \nL 45.3125 8.40625 \nQ 42.046875 3.421875 37.71875 1 \nQ 33.40625 -1.421875 27.6875 -1.421875 \nQ 18.265625 -1.421875 13.375 4.4375 \nQ 8.5 10.296875 8.5 21.578125 \nz\nM 31.109375 56 \nz\n\" id=\"DejaVuSans-117\"/>\n        <path d=\"M 45.40625 27.984375 \nQ 45.40625 37.75 41.375 43.109375 \nQ 37.359375 48.484375 30.078125 48.484375 \nQ 22.859375 48.484375 18.828125 43.109375 \nQ 14.796875 37.75 14.796875 27.984375 \nQ 14.796875 18.265625 18.828125 12.890625 \nQ 22.859375 7.515625 30.078125 7.515625 \nQ 37.359375 7.515625 41.375 12.890625 \nQ 45.40625 18.265625 45.40625 27.984375 \nz\nM 54.390625 6.78125 \nQ 54.390625 -7.171875 48.1875 -13.984375 \nQ 42 -20.796875 29.203125 -20.796875 \nQ 24.46875 -20.796875 20.265625 -20.09375 \nQ 16.0625 -19.390625 12.109375 -17.921875 \nL 12.109375 -9.1875 \nQ 16.0625 -11.328125 19.921875 -12.34375 \nQ 23.78125 -13.375 27.78125 -13.375 \nQ 36.625 -13.375 41.015625 -8.765625 \nQ 45.40625 -4.15625 45.40625 5.171875 \nL 45.40625 9.625 \nQ 42.625 4.78125 38.28125 2.390625 \nQ 33.9375 0 27.875 0 \nQ 17.828125 0 11.671875 7.65625 \nQ 5.515625 15.328125 5.515625 27.984375 \nQ 5.515625 40.671875 11.671875 48.328125 \nQ 17.828125 56 27.875 56 \nQ 33.9375 56 38.28125 53.609375 \nQ 42.625 51.21875 45.40625 46.390625 \nL 45.40625 54.6875 \nL 54.390625 54.6875 \nz\n\" id=\"DejaVuSans-103\"/>\n        <path d=\"M 4.890625 31.390625 \nL 31.203125 31.390625 \nL 31.203125 23.390625 \nL 4.890625 23.390625 \nz\n\" id=\"DejaVuSans-45\"/>\n        <path d=\"M 19.1875 8.296875 \nL 53.609375 8.296875 \nL 53.609375 0 \nL 7.328125 0 \nL 7.328125 8.296875 \nQ 12.9375 14.109375 22.625 23.890625 \nQ 32.328125 33.6875 34.8125 36.53125 \nQ 39.546875 41.84375 41.421875 45.53125 \nQ 43.3125 49.21875 43.3125 52.78125 \nQ 43.3125 58.59375 39.234375 62.25 \nQ 35.15625 65.921875 28.609375 65.921875 \nQ 23.96875 65.921875 18.8125 64.3125 \nQ 13.671875 62.703125 7.8125 59.421875 \nL 7.8125 69.390625 \nQ 13.765625 71.78125 18.9375 73 \nQ 24.125 74.21875 28.421875 74.21875 \nQ 39.75 74.21875 46.484375 68.546875 \nQ 53.21875 62.890625 53.21875 53.421875 \nQ 53.21875 48.921875 51.53125 44.890625 \nQ 49.859375 40.875 45.40625 35.40625 \nQ 44.1875 33.984375 37.640625 27.21875 \nQ 31.109375 20.453125 19.1875 8.296875 \nz\n\" id=\"DejaVuSans-50\"/>\n        <path d=\"M 31.78125 66.40625 \nQ 24.171875 66.40625 20.328125 58.90625 \nQ 16.5 51.421875 16.5 36.375 \nQ 16.5 21.390625 20.328125 13.890625 \nQ 24.171875 6.390625 31.78125 6.390625 \nQ 39.453125 6.390625 43.28125 13.890625 \nQ 47.125 21.390625 47.125 36.375 \nQ 47.125 51.421875 43.28125 58.90625 \nQ 39.453125 66.40625 31.78125 66.40625 \nz\nM 31.78125 74.21875 \nQ 44.046875 74.21875 50.515625 64.515625 \nQ 56.984375 54.828125 56.984375 36.375 \nQ 56.984375 17.96875 50.515625 8.265625 \nQ 44.046875 -1.421875 31.78125 -1.421875 \nQ 19.53125 -1.421875 13.0625 8.265625 \nQ 6.59375 17.96875 6.59375 36.375 \nQ 6.59375 54.828125 13.0625 64.515625 \nQ 19.53125 74.21875 31.78125 74.21875 \nz\n\" id=\"DejaVuSans-48\"/>\n       </defs>\n       <use xlink:href=\"#DejaVuSans-65\"/>\n       <use x=\"68.408203\" xlink:href=\"#DejaVuSans-117\"/>\n       <use x=\"131.787109\" xlink:href=\"#DejaVuSans-103\"/>\n       <use x=\"195.263672\" xlink:href=\"#DejaVuSans-45\"/>\n       <use x=\"231.347656\" xlink:href=\"#DejaVuSans-50\"/>\n       <use x=\"294.970703\" xlink:href=\"#DejaVuSans-48\"/>\n       <use x=\"358.59375\" xlink:href=\"#DejaVuSans-50\"/>\n       <use x=\"422.216797\" xlink:href=\"#DejaVuSans-48\"/>\n      </g>\n     </g>\n    </g>\n    <g id=\"xtick_2\">\n     <g id=\"line2d_2\">\n      <g>\n       <use style=\"stroke:#000000;stroke-width:0.8;\" x=\"138.274716\" xlink:href=\"#m9881d8d1e6\" y=\"239.758125\"/>\n      </g>\n     </g>\n     <g id=\"text_2\">\n      <!-- Jul-2020 -->\n      <g transform=\"translate(117.712997 254.356562)scale(0.1 -0.1)\">\n       <defs>\n        <path d=\"M 9.8125 72.90625 \nL 19.671875 72.90625 \nL 19.671875 5.078125 \nQ 19.671875 -8.109375 14.671875 -14.0625 \nQ 9.671875 -20.015625 -1.421875 -20.015625 \nL -5.171875 -20.015625 \nL -5.171875 -11.71875 \nL -2.09375 -11.71875 \nQ 4.4375 -11.71875 7.125 -8.046875 \nQ 9.8125 -4.390625 9.8125 5.078125 \nz\n\" id=\"DejaVuSans-74\"/>\n        <path d=\"M 9.421875 75.984375 \nL 18.40625 75.984375 \nL 18.40625 0 \nL 9.421875 0 \nz\n\" id=\"DejaVuSans-108\"/>\n       </defs>\n       <use xlink:href=\"#DejaVuSans-74\"/>\n       <use x=\"29.492188\" xlink:href=\"#DejaVuSans-117\"/>\n       <use x=\"92.871094\" xlink:href=\"#DejaVuSans-108\"/>\n       <use x=\"120.654297\" xlink:href=\"#DejaVuSans-45\"/>\n       <use x=\"156.738281\" xlink:href=\"#DejaVuSans-50\"/>\n       <use x=\"220.361328\" xlink:href=\"#DejaVuSans-48\"/>\n       <use x=\"283.984375\" xlink:href=\"#DejaVuSans-50\"/>\n       <use x=\"347.607422\" xlink:href=\"#DejaVuSans-48\"/>\n      </g>\n     </g>\n    </g>\n    <g id=\"xtick_3\">\n     <g id=\"line2d_3\">\n      <g>\n       <use style=\"stroke:#000000;stroke-width:0.8;\" x=\"214.365625\" xlink:href=\"#m9881d8d1e6\" y=\"239.758125\"/>\n      </g>\n     </g>\n     <g id=\"text_3\">\n      <!-- Jun-2020 -->\n      <g transform=\"translate(192.024219 254.356562)scale(0.1 -0.1)\">\n       <defs>\n        <path d=\"M 54.890625 33.015625 \nL 54.890625 0 \nL 45.90625 0 \nL 45.90625 32.71875 \nQ 45.90625 40.484375 42.875 44.328125 \nQ 39.84375 48.1875 33.796875 48.1875 \nQ 26.515625 48.1875 22.3125 43.546875 \nQ 18.109375 38.921875 18.109375 30.90625 \nL 18.109375 0 \nL 9.078125 0 \nL 9.078125 54.6875 \nL 18.109375 54.6875 \nL 18.109375 46.1875 \nQ 21.34375 51.125 25.703125 53.5625 \nQ 30.078125 56 35.796875 56 \nQ 45.21875 56 50.046875 50.171875 \nQ 54.890625 44.34375 54.890625 33.015625 \nz\n\" id=\"DejaVuSans-110\"/>\n       </defs>\n       <use xlink:href=\"#DejaVuSans-74\"/>\n       <use x=\"29.492188\" xlink:href=\"#DejaVuSans-117\"/>\n       <use x=\"92.871094\" xlink:href=\"#DejaVuSans-110\"/>\n       <use x=\"156.25\" xlink:href=\"#DejaVuSans-45\"/>\n       <use x=\"192.333984\" xlink:href=\"#DejaVuSans-50\"/>\n       <use x=\"255.957031\" xlink:href=\"#DejaVuSans-48\"/>\n       <use x=\"319.580078\" xlink:href=\"#DejaVuSans-50\"/>\n       <use x=\"383.203125\" xlink:href=\"#DejaVuSans-48\"/>\n      </g>\n     </g>\n    </g>\n    <g id=\"xtick_4\">\n     <g id=\"line2d_4\">\n      <g>\n       <use style=\"stroke:#000000;stroke-width:0.8;\" x=\"290.456534\" xlink:href=\"#m9881d8d1e6\" y=\"239.758125\"/>\n      </g>\n     </g>\n     <g id=\"text_4\">\n      <!-- May-2020 -->\n      <g transform=\"translate(265.677628 254.356562)scale(0.1 -0.1)\">\n       <defs>\n        <path d=\"M 9.8125 72.90625 \nL 24.515625 72.90625 \nL 43.109375 23.296875 \nL 61.8125 72.90625 \nL 76.515625 72.90625 \nL 76.515625 0 \nL 66.890625 0 \nL 66.890625 64.015625 \nL 48.09375 14.015625 \nL 38.1875 14.015625 \nL 19.390625 64.015625 \nL 19.390625 0 \nL 9.8125 0 \nz\n\" id=\"DejaVuSans-77\"/>\n        <path d=\"M 34.28125 27.484375 \nQ 23.390625 27.484375 19.1875 25 \nQ 14.984375 22.515625 14.984375 16.5 \nQ 14.984375 11.71875 18.140625 8.90625 \nQ 21.296875 6.109375 26.703125 6.109375 \nQ 34.1875 6.109375 38.703125 11.40625 \nQ 43.21875 16.703125 43.21875 25.484375 \nL 43.21875 27.484375 \nz\nM 52.203125 31.203125 \nL 52.203125 0 \nL 43.21875 0 \nL 43.21875 8.296875 \nQ 40.140625 3.328125 35.546875 0.953125 \nQ 30.953125 -1.421875 24.3125 -1.421875 \nQ 15.921875 -1.421875 10.953125 3.296875 \nQ 6 8.015625 6 15.921875 \nQ 6 25.140625 12.171875 29.828125 \nQ 18.359375 34.515625 30.609375 34.515625 \nL 43.21875 34.515625 \nL 43.21875 35.40625 \nQ 43.21875 41.609375 39.140625 45 \nQ 35.0625 48.390625 27.6875 48.390625 \nQ 23 48.390625 18.546875 47.265625 \nQ 14.109375 46.140625 10.015625 43.890625 \nL 10.015625 52.203125 \nQ 14.9375 54.109375 19.578125 55.046875 \nQ 24.21875 56 28.609375 56 \nQ 40.484375 56 46.34375 49.84375 \nQ 52.203125 43.703125 52.203125 31.203125 \nz\n\" id=\"DejaVuSans-97\"/>\n        <path d=\"M 32.171875 -5.078125 \nQ 28.375 -14.84375 24.75 -17.8125 \nQ 21.140625 -20.796875 15.09375 -20.796875 \nL 7.90625 -20.796875 \nL 7.90625 -13.28125 \nL 13.1875 -13.28125 \nQ 16.890625 -13.28125 18.9375 -11.515625 \nQ 21 -9.765625 23.484375 -3.21875 \nL 25.09375 0.875 \nL 2.984375 54.6875 \nL 12.5 54.6875 \nL 29.59375 11.921875 \nL 46.6875 54.6875 \nL 56.203125 54.6875 \nz\n\" id=\"DejaVuSans-121\"/>\n       </defs>\n       <use xlink:href=\"#DejaVuSans-77\"/>\n       <use x=\"86.279297\" xlink:href=\"#DejaVuSans-97\"/>\n       <use x=\"147.558594\" xlink:href=\"#DejaVuSans-121\"/>\n       <use x=\"204.988281\" xlink:href=\"#DejaVuSans-45\"/>\n       <use x=\"241.072266\" xlink:href=\"#DejaVuSans-50\"/>\n       <use x=\"304.695312\" xlink:href=\"#DejaVuSans-48\"/>\n       <use x=\"368.318359\" xlink:href=\"#DejaVuSans-50\"/>\n       <use x=\"431.941406\" xlink:href=\"#DejaVuSans-48\"/>\n      </g>\n     </g>\n    </g>\n    <g id=\"xtick_5\">\n     <g id=\"line2d_5\">\n      <g>\n       <use style=\"stroke:#000000;stroke-width:0.8;\" x=\"366.547443\" xlink:href=\"#m9881d8d1e6\" y=\"239.758125\"/>\n      </g>\n     </g>\n     <g id=\"text_5\">\n      <!-- Sep-2020 -->\n      <g transform=\"translate(342.593537 254.356562)scale(0.1 -0.1)\">\n       <defs>\n        <path d=\"M 53.515625 70.515625 \nL 53.515625 60.890625 \nQ 47.90625 63.578125 42.921875 64.890625 \nQ 37.9375 66.21875 33.296875 66.21875 \nQ 25.25 66.21875 20.875 63.09375 \nQ 16.5 59.96875 16.5 54.203125 \nQ 16.5 49.359375 19.40625 46.890625 \nQ 22.3125 44.4375 30.421875 42.921875 \nL 36.375 41.703125 \nQ 47.40625 39.59375 52.65625 34.296875 \nQ 57.90625 29 57.90625 20.125 \nQ 57.90625 9.515625 50.796875 4.046875 \nQ 43.703125 -1.421875 29.984375 -1.421875 \nQ 24.8125 -1.421875 18.96875 -0.25 \nQ 13.140625 0.921875 6.890625 3.21875 \nL 6.890625 13.375 \nQ 12.890625 10.015625 18.65625 8.296875 \nQ 24.421875 6.59375 29.984375 6.59375 \nQ 38.421875 6.59375 43.015625 9.90625 \nQ 47.609375 13.234375 47.609375 19.390625 \nQ 47.609375 24.75 44.3125 27.78125 \nQ 41.015625 30.8125 33.5 32.328125 \nL 27.484375 33.5 \nQ 16.453125 35.6875 11.515625 40.375 \nQ 6.59375 45.0625 6.59375 53.421875 \nQ 6.59375 63.09375 13.40625 68.65625 \nQ 20.21875 74.21875 32.171875 74.21875 \nQ 37.3125 74.21875 42.625 73.28125 \nQ 47.953125 72.359375 53.515625 70.515625 \nz\n\" id=\"DejaVuSans-83\"/>\n        <path d=\"M 56.203125 29.59375 \nL 56.203125 25.203125 \nL 14.890625 25.203125 \nQ 15.484375 15.921875 20.484375 11.0625 \nQ 25.484375 6.203125 34.421875 6.203125 \nQ 39.59375 6.203125 44.453125 7.46875 \nQ 49.3125 8.734375 54.109375 11.28125 \nL 54.109375 2.78125 \nQ 49.265625 0.734375 44.1875 -0.34375 \nQ 39.109375 -1.421875 33.890625 -1.421875 \nQ 20.796875 -1.421875 13.15625 6.1875 \nQ 5.515625 13.8125 5.515625 26.8125 \nQ 5.515625 40.234375 12.765625 48.109375 \nQ 20.015625 56 32.328125 56 \nQ 43.359375 56 49.78125 48.890625 \nQ 56.203125 41.796875 56.203125 29.59375 \nz\nM 47.21875 32.234375 \nQ 47.125 39.59375 43.09375 43.984375 \nQ 39.0625 48.390625 32.421875 48.390625 \nQ 24.90625 48.390625 20.390625 44.140625 \nQ 15.875 39.890625 15.1875 32.171875 \nz\n\" id=\"DejaVuSans-101\"/>\n        <path d=\"M 18.109375 8.203125 \nL 18.109375 -20.796875 \nL 9.078125 -20.796875 \nL 9.078125 54.6875 \nL 18.109375 54.6875 \nL 18.109375 46.390625 \nQ 20.953125 51.265625 25.265625 53.625 \nQ 29.59375 56 35.59375 56 \nQ 45.5625 56 51.78125 48.09375 \nQ 58.015625 40.1875 58.015625 27.296875 \nQ 58.015625 14.40625 51.78125 6.484375 \nQ 45.5625 -1.421875 35.59375 -1.421875 \nQ 29.59375 -1.421875 25.265625 0.953125 \nQ 20.953125 3.328125 18.109375 8.203125 \nz\nM 48.6875 27.296875 \nQ 48.6875 37.203125 44.609375 42.84375 \nQ 40.53125 48.484375 33.40625 48.484375 \nQ 26.265625 48.484375 22.1875 42.84375 \nQ 18.109375 37.203125 18.109375 27.296875 \nQ 18.109375 17.390625 22.1875 11.75 \nQ 26.265625 6.109375 33.40625 6.109375 \nQ 40.53125 6.109375 44.609375 11.75 \nQ 48.6875 17.390625 48.6875 27.296875 \nz\n\" id=\"DejaVuSans-112\"/>\n       </defs>\n       <use xlink:href=\"#DejaVuSans-83\"/>\n       <use x=\"63.476562\" xlink:href=\"#DejaVuSans-101\"/>\n       <use x=\"125\" xlink:href=\"#DejaVuSans-112\"/>\n       <use x=\"188.476562\" xlink:href=\"#DejaVuSans-45\"/>\n       <use x=\"224.560547\" xlink:href=\"#DejaVuSans-50\"/>\n       <use x=\"288.183594\" xlink:href=\"#DejaVuSans-48\"/>\n       <use x=\"351.806641\" xlink:href=\"#DejaVuSans-50\"/>\n       <use x=\"415.429688\" xlink:href=\"#DejaVuSans-48\"/>\n      </g>\n     </g>\n    </g>\n    <g id=\"text_6\">\n     <!-- xAxis name -->\n     <g transform=\"translate(185.264063 268.034687)scale(0.1 -0.1)\">\n      <defs>\n       <path d=\"M 54.890625 54.6875 \nL 35.109375 28.078125 \nL 55.90625 0 \nL 45.3125 0 \nL 29.390625 21.484375 \nL 13.484375 0 \nL 2.875 0 \nL 24.125 28.609375 \nL 4.6875 54.6875 \nL 15.28125 54.6875 \nL 29.78125 35.203125 \nL 44.28125 54.6875 \nz\n\" id=\"DejaVuSans-120\"/>\n       <path d=\"M 9.421875 54.6875 \nL 18.40625 54.6875 \nL 18.40625 0 \nL 9.421875 0 \nz\nM 9.421875 75.984375 \nL 18.40625 75.984375 \nL 18.40625 64.59375 \nL 9.421875 64.59375 \nz\n\" id=\"DejaVuSans-105\"/>\n       <path d=\"M 44.28125 53.078125 \nL 44.28125 44.578125 \nQ 40.484375 46.53125 36.375 47.5 \nQ 32.28125 48.484375 27.875 48.484375 \nQ 21.1875 48.484375 17.84375 46.4375 \nQ 14.5 44.390625 14.5 40.28125 \nQ 14.5 37.15625 16.890625 35.375 \nQ 19.28125 33.59375 26.515625 31.984375 \nL 29.59375 31.296875 \nQ 39.15625 29.25 43.1875 25.515625 \nQ 47.21875 21.78125 47.21875 15.09375 \nQ 47.21875 7.46875 41.1875 3.015625 \nQ 35.15625 -1.421875 24.609375 -1.421875 \nQ 20.21875 -1.421875 15.453125 -0.5625 \nQ 10.6875 0.296875 5.421875 2 \nL 5.421875 11.28125 \nQ 10.40625 8.6875 15.234375 7.390625 \nQ 20.0625 6.109375 24.8125 6.109375 \nQ 31.15625 6.109375 34.5625 8.28125 \nQ 37.984375 10.453125 37.984375 14.40625 \nQ 37.984375 18.0625 35.515625 20.015625 \nQ 33.0625 21.96875 24.703125 23.78125 \nL 21.578125 24.515625 \nQ 13.234375 26.265625 9.515625 29.90625 \nQ 5.8125 33.546875 5.8125 39.890625 \nQ 5.8125 47.609375 11.28125 51.796875 \nQ 16.75 56 26.8125 56 \nQ 31.78125 56 36.171875 55.265625 \nQ 40.578125 54.546875 44.28125 53.078125 \nz\n\" id=\"DejaVuSans-115\"/>\n       <path id=\"DejaVuSans-32\"/>\n       <path d=\"M 52 44.1875 \nQ 55.375 50.25 60.0625 53.125 \nQ 64.75 56 71.09375 56 \nQ 79.640625 56 84.28125 50.015625 \nQ 88.921875 44.046875 88.921875 33.015625 \nL 88.921875 0 \nL 79.890625 0 \nL 79.890625 32.71875 \nQ 79.890625 40.578125 77.09375 44.375 \nQ 74.3125 48.1875 68.609375 48.1875 \nQ 61.625 48.1875 57.5625 43.546875 \nQ 53.515625 38.921875 53.515625 30.90625 \nL 53.515625 0 \nL 44.484375 0 \nL 44.484375 32.71875 \nQ 44.484375 40.625 41.703125 44.40625 \nQ 38.921875 48.1875 33.109375 48.1875 \nQ 26.21875 48.1875 22.15625 43.53125 \nQ 18.109375 38.875 18.109375 30.90625 \nL 18.109375 0 \nL 9.078125 0 \nL 9.078125 54.6875 \nL 18.109375 54.6875 \nL 18.109375 46.1875 \nQ 21.1875 51.21875 25.484375 53.609375 \nQ 29.78125 56 35.6875 56 \nQ 41.65625 56 45.828125 52.96875 \nQ 50 49.953125 52 44.1875 \nz\n\" id=\"DejaVuSans-109\"/>\n      </defs>\n      <use xlink:href=\"#DejaVuSans-120\"/>\n      <use x=\"59.179688\" xlink:href=\"#DejaVuSans-65\"/>\n      <use x=\"127.587891\" xlink:href=\"#DejaVuSans-120\"/>\n      <use x=\"186.767578\" xlink:href=\"#DejaVuSans-105\"/>\n      <use x=\"214.550781\" xlink:href=\"#DejaVuSans-115\"/>\n      <use x=\"266.650391\" xlink:href=\"#DejaVuSans-32\"/>\n      <use x=\"298.4375\" xlink:href=\"#DejaVuSans-110\"/>\n      <use x=\"361.816406\" xlink:href=\"#DejaVuSans-97\"/>\n      <use x=\"423.095703\" xlink:href=\"#DejaVuSans-109\"/>\n      <use x=\"520.507812\" xlink:href=\"#DejaVuSans-101\"/>\n     </g>\n    </g>\n   </g>\n   <g id=\"matplotlib.axis_2\">\n    <g id=\"ytick_1\">\n     <g id=\"line2d_6\">\n      <defs>\n       <path d=\"M 0 0 \nL -3.5 0 \n\" id=\"m5ac76cd9b3\" style=\"stroke:#000000;stroke-width:0.8;\"/>\n      </defs>\n      <g>\n       <use style=\"stroke:#000000;stroke-width:0.8;\" x=\"46.965625\" xlink:href=\"#m5ac76cd9b3\" y=\"234.633277\"/>\n      </g>\n     </g>\n     <g id=\"text_7\">\n      <!-- 0 -->\n      <g transform=\"translate(33.603125 238.432495)scale(0.1 -0.1)\">\n       <use xlink:href=\"#DejaVuSans-48\"/>\n      </g>\n     </g>\n    </g>\n    <g id=\"ytick_2\">\n     <g id=\"line2d_7\">\n      <g>\n       <use style=\"stroke:#000000;stroke-width:0.8;\" x=\"46.965625\" xlink:href=\"#m5ac76cd9b3\" y=\"198.027216\"/>\n      </g>\n     </g>\n     <g id=\"text_8\">\n      <!-- 100 -->\n      <g transform=\"translate(20.878125 201.826435)scale(0.1 -0.1)\">\n       <defs>\n        <path d=\"M 12.40625 8.296875 \nL 28.515625 8.296875 \nL 28.515625 63.921875 \nL 10.984375 60.40625 \nL 10.984375 69.390625 \nL 28.421875 72.90625 \nL 38.28125 72.90625 \nL 38.28125 8.296875 \nL 54.390625 8.296875 \nL 54.390625 0 \nL 12.40625 0 \nz\n\" id=\"DejaVuSans-49\"/>\n       </defs>\n       <use xlink:href=\"#DejaVuSans-49\"/>\n       <use x=\"63.623047\" xlink:href=\"#DejaVuSans-48\"/>\n       <use x=\"127.246094\" xlink:href=\"#DejaVuSans-48\"/>\n      </g>\n     </g>\n    </g>\n    <g id=\"ytick_3\">\n     <g id=\"line2d_8\">\n      <g>\n       <use style=\"stroke:#000000;stroke-width:0.8;\" x=\"46.965625\" xlink:href=\"#m5ac76cd9b3\" y=\"161.421155\"/>\n      </g>\n     </g>\n     <g id=\"text_9\">\n      <!-- 200 -->\n      <g transform=\"translate(20.878125 165.220374)scale(0.1 -0.1)\">\n       <use xlink:href=\"#DejaVuSans-50\"/>\n       <use x=\"63.623047\" xlink:href=\"#DejaVuSans-48\"/>\n       <use x=\"127.246094\" xlink:href=\"#DejaVuSans-48\"/>\n      </g>\n     </g>\n    </g>\n    <g id=\"ytick_4\">\n     <g id=\"line2d_9\">\n      <g>\n       <use style=\"stroke:#000000;stroke-width:0.8;\" x=\"46.965625\" xlink:href=\"#m5ac76cd9b3\" y=\"124.815095\"/>\n      </g>\n     </g>\n     <g id=\"text_10\">\n      <!-- 300 -->\n      <g transform=\"translate(20.878125 128.614313)scale(0.1 -0.1)\">\n       <defs>\n        <path d=\"M 40.578125 39.3125 \nQ 47.65625 37.796875 51.625 33 \nQ 55.609375 28.21875 55.609375 21.1875 \nQ 55.609375 10.40625 48.1875 4.484375 \nQ 40.765625 -1.421875 27.09375 -1.421875 \nQ 22.515625 -1.421875 17.65625 -0.515625 \nQ 12.796875 0.390625 7.625 2.203125 \nL 7.625 11.71875 \nQ 11.71875 9.328125 16.59375 8.109375 \nQ 21.484375 6.890625 26.8125 6.890625 \nQ 36.078125 6.890625 40.9375 10.546875 \nQ 45.796875 14.203125 45.796875 21.1875 \nQ 45.796875 27.640625 41.28125 31.265625 \nQ 36.765625 34.90625 28.71875 34.90625 \nL 20.21875 34.90625 \nL 20.21875 43.015625 \nL 29.109375 43.015625 \nQ 36.375 43.015625 40.234375 45.921875 \nQ 44.09375 48.828125 44.09375 54.296875 \nQ 44.09375 59.90625 40.109375 62.90625 \nQ 36.140625 65.921875 28.71875 65.921875 \nQ 24.65625 65.921875 20.015625 65.03125 \nQ 15.375 64.15625 9.8125 62.3125 \nL 9.8125 71.09375 \nQ 15.4375 72.65625 20.34375 73.4375 \nQ 25.25 74.21875 29.59375 74.21875 \nQ 40.828125 74.21875 47.359375 69.109375 \nQ 53.90625 64.015625 53.90625 55.328125 \nQ 53.90625 49.265625 50.4375 45.09375 \nQ 46.96875 40.921875 40.578125 39.3125 \nz\n\" id=\"DejaVuSans-51\"/>\n       </defs>\n       <use xlink:href=\"#DejaVuSans-51\"/>\n       <use x=\"63.623047\" xlink:href=\"#DejaVuSans-48\"/>\n       <use x=\"127.246094\" xlink:href=\"#DejaVuSans-48\"/>\n      </g>\n     </g>\n    </g>\n    <g id=\"ytick_5\">\n     <g id=\"line2d_10\">\n      <g>\n       <use style=\"stroke:#000000;stroke-width:0.8;\" x=\"46.965625\" xlink:href=\"#m5ac76cd9b3\" y=\"88.209034\"/>\n      </g>\n     </g>\n     <g id=\"text_11\">\n      <!-- 400 -->\n      <g transform=\"translate(20.878125 92.008253)scale(0.1 -0.1)\">\n       <defs>\n        <path d=\"M 37.796875 64.3125 \nL 12.890625 25.390625 \nL 37.796875 25.390625 \nz\nM 35.203125 72.90625 \nL 47.609375 72.90625 \nL 47.609375 25.390625 \nL 58.015625 25.390625 \nL 58.015625 17.1875 \nL 47.609375 17.1875 \nL 47.609375 0 \nL 37.796875 0 \nL 37.796875 17.1875 \nL 4.890625 17.1875 \nL 4.890625 26.703125 \nz\n\" id=\"DejaVuSans-52\"/>\n       </defs>\n       <use xlink:href=\"#DejaVuSans-52\"/>\n       <use x=\"63.623047\" xlink:href=\"#DejaVuSans-48\"/>\n       <use x=\"127.246094\" xlink:href=\"#DejaVuSans-48\"/>\n      </g>\n     </g>\n    </g>\n    <g id=\"ytick_6\">\n     <g id=\"line2d_11\">\n      <g>\n       <use style=\"stroke:#000000;stroke-width:0.8;\" x=\"46.965625\" xlink:href=\"#m5ac76cd9b3\" y=\"51.602973\"/>\n      </g>\n     </g>\n     <g id=\"text_12\">\n      <!-- 500 -->\n      <g transform=\"translate(20.878125 55.402192)scale(0.1 -0.1)\">\n       <defs>\n        <path d=\"M 10.796875 72.90625 \nL 49.515625 72.90625 \nL 49.515625 64.59375 \nL 19.828125 64.59375 \nL 19.828125 46.734375 \nQ 21.96875 47.46875 24.109375 47.828125 \nQ 26.265625 48.1875 28.421875 48.1875 \nQ 40.625 48.1875 47.75 41.5 \nQ 54.890625 34.8125 54.890625 23.390625 \nQ 54.890625 11.625 47.5625 5.09375 \nQ 40.234375 -1.421875 26.90625 -1.421875 \nQ 22.3125 -1.421875 17.546875 -0.640625 \nQ 12.796875 0.140625 7.71875 1.703125 \nL 7.71875 11.625 \nQ 12.109375 9.234375 16.796875 8.0625 \nQ 21.484375 6.890625 26.703125 6.890625 \nQ 35.15625 6.890625 40.078125 11.328125 \nQ 45.015625 15.765625 45.015625 23.390625 \nQ 45.015625 31 40.078125 35.4375 \nQ 35.15625 39.890625 26.703125 39.890625 \nQ 22.75 39.890625 18.8125 39.015625 \nQ 14.890625 38.140625 10.796875 36.28125 \nz\n\" id=\"DejaVuSans-53\"/>\n       </defs>\n       <use xlink:href=\"#DejaVuSans-53\"/>\n       <use x=\"63.623047\" xlink:href=\"#DejaVuSans-48\"/>\n       <use x=\"127.246094\" xlink:href=\"#DejaVuSans-48\"/>\n      </g>\n     </g>\n    </g>\n    <g id=\"text_13\">\n     <!-- yAxis name -->\n     <g transform=\"translate(14.798438 160.139687)rotate(-90)scale(0.1 -0.1)\">\n      <use xlink:href=\"#DejaVuSans-121\"/>\n      <use x=\"59.179688\" xlink:href=\"#DejaVuSans-65\"/>\n      <use x=\"127.587891\" xlink:href=\"#DejaVuSans-120\"/>\n      <use x=\"186.767578\" xlink:href=\"#DejaVuSans-105\"/>\n      <use x=\"214.550781\" xlink:href=\"#DejaVuSans-115\"/>\n      <use x=\"266.650391\" xlink:href=\"#DejaVuSans-32\"/>\n      <use x=\"298.4375\" xlink:href=\"#DejaVuSans-110\"/>\n      <use x=\"361.816406\" xlink:href=\"#DejaVuSans-97\"/>\n      <use x=\"423.095703\" xlink:href=\"#DejaVuSans-109\"/>\n      <use x=\"520.507812\" xlink:href=\"#DejaVuSans-101\"/>\n     </g>\n    </g>\n   </g>\n   <g id=\"line2d_12\">\n    <path clip-path=\"url(#p9e1cbeddd4)\" d=\"M 62.183807 32.201761 \nL 138.274716 172.769034 \nL 214.365625 195.464792 \nL 290.456534 143.850246 \nL 366.547443 229.874489 \n\" style=\"fill:none;stroke:#1f77b4;stroke-linecap:square;stroke-width:1.5;\"/>\n   </g>\n   <g id=\"patch_3\">\n    <path d=\"M 46.965625 239.758125 \nL 46.965625 22.318125 \n\" style=\"fill:none;stroke:#000000;stroke-linecap:square;stroke-linejoin:miter;stroke-width:0.8;\"/>\n   </g>\n   <g id=\"patch_4\">\n    <path d=\"M 381.765625 239.758125 \nL 381.765625 22.318125 \n\" style=\"fill:none;stroke:#000000;stroke-linecap:square;stroke-linejoin:miter;stroke-width:0.8;\"/>\n   </g>\n   <g id=\"patch_5\">\n    <path d=\"M 46.965625 239.758125 \nL 381.765625 239.758125 \n\" style=\"fill:none;stroke:#000000;stroke-linecap:square;stroke-linejoin:miter;stroke-width:0.8;\"/>\n   </g>\n   <g id=\"patch_6\">\n    <path d=\"M 46.965625 22.318125 \nL 381.765625 22.318125 \n\" style=\"fill:none;stroke:#000000;stroke-linecap:square;stroke-linejoin:miter;stroke-width:0.8;\"/>\n   </g>\n   <g id=\"text_14\">\n    <!-- title name -->\n    <g transform=\"translate(183.713125 16.318125)scale(0.12 -0.12)\">\n     <defs>\n      <path d=\"M 18.3125 70.21875 \nL 18.3125 54.6875 \nL 36.8125 54.6875 \nL 36.8125 47.703125 \nL 18.3125 47.703125 \nL 18.3125 18.015625 \nQ 18.3125 11.328125 20.140625 9.421875 \nQ 21.96875 7.515625 27.59375 7.515625 \nL 36.8125 7.515625 \nL 36.8125 0 \nL 27.59375 0 \nQ 17.1875 0 13.234375 3.875 \nQ 9.28125 7.765625 9.28125 18.015625 \nL 9.28125 47.703125 \nL 2.6875 47.703125 \nL 2.6875 54.6875 \nL 9.28125 54.6875 \nL 9.28125 70.21875 \nz\n\" id=\"DejaVuSans-116\"/>\n     </defs>\n     <use xlink:href=\"#DejaVuSans-116\"/>\n     <use x=\"39.208984\" xlink:href=\"#DejaVuSans-105\"/>\n     <use x=\"66.992188\" xlink:href=\"#DejaVuSans-116\"/>\n     <use x=\"106.201172\" xlink:href=\"#DejaVuSans-108\"/>\n     <use x=\"133.984375\" xlink:href=\"#DejaVuSans-101\"/>\n     <use x=\"195.507812\" xlink:href=\"#DejaVuSans-32\"/>\n     <use x=\"227.294922\" xlink:href=\"#DejaVuSans-110\"/>\n     <use x=\"290.673828\" xlink:href=\"#DejaVuSans-97\"/>\n     <use x=\"351.953125\" xlink:href=\"#DejaVuSans-109\"/>\n     <use x=\"449.365234\" xlink:href=\"#DejaVuSans-101\"/>\n    </g>\n   </g>\n  </g>\n </g>\n <defs>\n  <clipPath id=\"p9e1cbeddd4\">\n   <rect height=\"217.44\" width=\"334.8\" x=\"46.965625\" y=\"22.318125\"/>\n  </clipPath>\n </defs>\n</svg>\n",
      "image/png": "[encoded data removed]"
     },
     "metadata": {
      "needs_background": "light"
     }
    }
   ],
   "source": [
    "import matplotlib.pyplot as plt\n",
    "m = (data_frame_whatsapp_chat_without_null_values.groupby([\"Month_year\"])[\"Messages\"].count()).keys()\n",
    "mess = (data_frame_whatsapp_chat_without_null_values.groupby([\"Month_year\"])[\"Messages\"].count()).values\n",
    "plt.plot(m,mess)\n",
    "plt.title('title name')\n",
    "plt.xlabel('xAxis name')\n",
    "plt.ylabel('yAxis name')\n",
    "plt.show()"
   ]
  },
  {
   "cell_type": "code",
   "execution_count": null,
   "metadata": {},
   "outputs": [],
   "source": []
  }
 ],
 "metadata": {
  "kernelspec": {
   "display_name": "Python 3",
   "language": "python",
   "name": "python3"
  },
  "language_info": {
   "codemirror_mode": {
    "name": "ipython",
    "version": 3
   },
   "file_extension": ".py",
   "mimetype": "text/x-python",
   "name": "python",
   "nbconvert_exporter": "python",
   "pygments_lexer": "ipython3",
   "version": "3.8.5-final"
  }
 },
 "nbformat": 4,
 "nbformat_minor": 4
}